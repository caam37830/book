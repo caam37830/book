{
 "cells": [
  {
   "cell_type": "markdown",
   "metadata": {},
   "source": [
    "# Linear Algebra in PyTorch\n",
    "\n",
    "[PyTorch](https://pytorch.org/) is a popular package for developing models for deep learning.  In this section, we'll look at its linear algebra capabilities.\n",
    "\n",
    "Even if you are not doing deep learning, you can use PyTorch for linear algebra.  One of the nice things about PyTorch is that it makes it easy to take advantage of GPU hardware, which is very efficient at certain operations.\n",
    "\n",
    "You can find [PyTorch tutorials](https://pytorch.org/tutorials/) on the official website as well as [documentation](https://pytorch.org/docs/stable/index.html).  Note these tutorials are focused on deep learning.  This section will focus on the linear algebra capabilities.\n",
    "\n",
    "When you install PyTorch, use the `pytorch` channel in conda.\n",
    "\n",
    "```bash\n",
    "conda install pytorch -c pytorch\n",
    "```"
   ]
  },
  {
   "cell_type": "code",
   "execution_count": 1,
   "metadata": {},
   "outputs": [
    {
     "ename": "ModuleNotFoundError",
     "evalue": "No module named 'torch'",
     "output_type": "error",
     "traceback": [
      "\u001b[0;31m---------------------------------------------------------------------------\u001b[0m",
      "\u001b[0;31mModuleNotFoundError\u001b[0m                       Traceback (most recent call last)",
      "Input \u001b[0;32mIn [1]\u001b[0m, in \u001b[0;36m<module>\u001b[0;34m\u001b[0m\n\u001b[1;32m      1\u001b[0m \u001b[38;5;28;01mimport\u001b[39;00m \u001b[38;5;21;01mnumpy\u001b[39;00m \u001b[38;5;28;01mas\u001b[39;00m \u001b[38;5;21;01mnp\u001b[39;00m\n\u001b[1;32m      2\u001b[0m \u001b[38;5;28;01mimport\u001b[39;00m \u001b[38;5;21;01mmatplotlib\u001b[39;00m\u001b[38;5;21;01m.\u001b[39;00m\u001b[38;5;21;01mpyplot\u001b[39;00m \u001b[38;5;28;01mas\u001b[39;00m \u001b[38;5;21;01mplt\u001b[39;00m\n\u001b[0;32m----> 3\u001b[0m \u001b[38;5;28;01mimport\u001b[39;00m \u001b[38;5;21;01mtorch\u001b[39;00m\n\u001b[1;32m      4\u001b[0m torch\u001b[38;5;241m.\u001b[39m__version__\n",
      "\u001b[0;31mModuleNotFoundError\u001b[0m: No module named 'torch'"
     ]
    }
   ],
   "source": [
    "import numpy as np\n",
    "import matplotlib.pyplot as plt\n",
    "import torch\n",
    "torch.__version__"
   ]
  },
  {
   "cell_type": "markdown",
   "metadata": {},
   "source": [
    "## PyTorch Tensors\n",
    "\n",
    "PyTorch `Tensor`s are just multi-dimensional arrays.  You can go back and forth between these and numpy `ndarray`."
   ]
  },
  {
   "cell_type": "code",
   "execution_count": 2,
   "metadata": {},
   "outputs": [
    {
     "data": {
      "text/plain": [
       "array([[0.07249615, 0.07733924],\n",
       "       [0.92554353, 0.75705366]])"
      ]
     },
     "execution_count": 2,
     "metadata": {},
     "output_type": "execute_result"
    }
   ],
   "source": [
    "A = np.random.rand(2,2)\n",
    "A"
   ]
  },
  {
   "cell_type": "code",
   "execution_count": 3,
   "metadata": {},
   "outputs": [
    {
     "data": {
      "text/plain": [
       "tensor([[0.0725, 0.0773],\n",
       "        [0.9255, 0.7571]])"
      ]
     },
     "execution_count": 3,
     "metadata": {},
     "output_type": "execute_result"
    }
   ],
   "source": [
    "B = torch.Tensor(A)\n",
    "B"
   ]
  },
  {
   "cell_type": "markdown",
   "metadata": {},
   "source": [
    "To put a tensor on gpu, use `cuda()`.  Note that you must have an NVIDIA GPU in your computer to be able to do this successfully."
   ]
  },
  {
   "cell_type": "code",
   "execution_count": 4,
   "metadata": {},
   "outputs": [
    {
     "data": {
      "text/plain": [
       "True"
      ]
     },
     "execution_count": 4,
     "metadata": {},
     "output_type": "execute_result"
    }
   ],
   "source": [
    "torch.cuda.is_available()"
   ]
  },
  {
   "cell_type": "code",
   "execution_count": 5,
   "metadata": {},
   "outputs": [
    {
     "name": "stdout",
     "output_type": "stream",
     "text": [
      "tensor([[0.0725, 0.0773],\n",
      "        [0.9255, 0.7571]], device='cuda:0')\n",
      "tensor([[0.0725, 0.0773],\n",
      "        [0.9255, 0.7571]])\n"
     ]
    }
   ],
   "source": [
    "Bcuda = B.cuda()\n",
    "print(Bcuda)\n",
    "Bcpu = B.cpu()\n",
    "print(Bcpu)"
   ]
  },
  {
   "cell_type": "code",
   "execution_count": 6,
   "metadata": {},
   "outputs": [
    {
     "data": {
      "text/plain": [
       "tensor([[0.0725, 0.0773],\n",
       "        [0.9255, 0.7571]], device='cuda:0')"
      ]
     },
     "execution_count": 6,
     "metadata": {},
     "output_type": "execute_result"
    }
   ],
   "source": [
    "B.to(device='cuda')"
   ]
  },
  {
   "cell_type": "markdown",
   "metadata": {},
   "source": [
    "To move a tensor back to CPU, you can use `device='cpu'`"
   ]
  },
  {
   "cell_type": "markdown",
   "metadata": {},
   "source": [
    "## Linear Algebra Functions\n",
    "\n",
    "PyTorch provides access to a variety of BLAS and LAPACK-type routines - see [documentation here](https://pytorch.org/docs/stable/torch.html#blas-and-lapack-operations).  These do not follow the BLAS/LAPACK naming conventions\n",
    "\n",
    "[`torch.addmv`](https://pytorch.org/docs/stable/generated/torch.addmv.html#torch-addmv) is roughly equivalent to `axpy`, and performs $Ax + y$"
   ]
  },
  {
   "cell_type": "code",
   "execution_count": 7,
   "metadata": {},
   "outputs": [],
   "source": [
    "m = 100\n",
    "n = 100\n",
    "device = torch.device('cuda') # 'cuda' or 'cpu'\n",
    "\n",
    "Anp = np.random.randn(m,n)\n",
    "xnp = np.random.randn(n)\n",
    "ynp = np.random.randn(m)\n",
    "\n",
    "A = torch.Tensor(Anp).to(device=device)\n",
    "x = torch.Tensor(xnp).to(device=device)\n",
    "y = torch.Tensor(ynp).to(device=device)\n",
    "\n",
    "z = torch.addmv(y, A, x)"
   ]
  },
  {
   "cell_type": "markdown",
   "metadata": {},
   "source": [
    "Let's look at the timing difference between CPU and GPU"
   ]
  },
  {
   "cell_type": "code",
   "execution_count": 8,
   "metadata": {},
   "outputs": [
    {
     "name": "stdout",
     "output_type": "stream",
     "text": [
      "numpy\n",
      "CPU times: user 3.51 ms, sys: 0 ns, total: 3.51 ms\n",
      "Wall time: 2.52 ms\n",
      "\n",
      "device = cpu\n",
      "CPU times: user 316 µs, sys: 112 µs, total: 428 µs\n",
      "Wall time: 145 µs\n",
      "\n",
      "device = cuda\n",
      "CPU times: user 223 µs, sys: 0 ns, total: 223 µs\n",
      "Wall time: 65.1 µs\n"
     ]
    }
   ],
   "source": [
    "m = 1000\n",
    "n = 1000\n",
    "\n",
    "Anp = np.random.randn(m,n)\n",
    "xnp = np.random.randn(n)\n",
    "ynp = np.random.randn(m)\n",
    "print(\"numpy\")\n",
    "%time z = ynp + Anp @ xnp\n",
    "\n",
    "\n",
    "for device in ('cpu', 'cuda'):\n",
    "    print(f\"\\ndevice = {device}\")\n",
    "    A = torch.Tensor(Anp).to(device=device)\n",
    "    x = torch.Tensor(xnp).to(device=device)\n",
    "    y = torch.Tensor(ynp).to(device=device)\n",
    "    z = torch.addmv(y, A, x)\n",
    "\n",
    "    %time z = torch.addmv(y, A, x)\n",
    "    \n",
    "    "
   ]
  },
  {
   "cell_type": "markdown",
   "metadata": {},
   "source": [
    "[`torch.mv`](https://pytorch.org/docs/stable/generated/torch.mv.html#torch.mv) performs matrix-vector products"
   ]
  },
  {
   "cell_type": "code",
   "execution_count": 9,
   "metadata": {},
   "outputs": [
    {
     "name": "stdout",
     "output_type": "stream",
     "text": [
      "numpy\n",
      "CPU times: user 2.76 ms, sys: 0 ns, total: 2.76 ms\n",
      "Wall time: 647 µs\n",
      "\n",
      "device = cpu\n",
      "CPU times: user 757 µs, sys: 0 ns, total: 757 µs\n",
      "Wall time: 253 µs\n",
      "\n",
      "device = cuda\n",
      "CPU times: user 146 µs, sys: 50 µs, total: 196 µs\n",
      "Wall time: 51 µs\n"
     ]
    }
   ],
   "source": [
    "Anp = np.random.randn(m,n)\n",
    "xnp = np.random.randn(n)\n",
    "\n",
    "print(\"numpy\")\n",
    "%time z = Anp @ xnp\n",
    "\n",
    "\n",
    "for device in ['cpu', 'cuda']:\n",
    "    print(f\"\\ndevice = {device}\")\n",
    "    A = torch.Tensor(Anp).to(device=device)\n",
    "    x = torch.Tensor(xnp).to(device=device)\n",
    "    y = torch.mv(A, x)\n",
    "\n",
    "    %time y = torch.mv(A, x)"
   ]
  },
  {
   "cell_type": "markdown",
   "metadata": {},
   "source": [
    "[torch.mm](https://pytorch.org/docs/stable/generated/torch.mm.html#torch.mm) performs matrix-matrix multiplications"
   ]
  },
  {
   "cell_type": "code",
   "execution_count": 10,
   "metadata": {},
   "outputs": [
    {
     "name": "stdout",
     "output_type": "stream",
     "text": [
      "numpy\n",
      "CPU times: user 92.4 ms, sys: 8.05 ms, total: 100 ms\n",
      "Wall time: 32.5 ms\n",
      "\n",
      "device = cpu\n",
      "CPU times: user 45.5 ms, sys: 382 µs, total: 45.8 ms\n",
      "Wall time: 11.5 ms\n",
      "\n",
      "device = cuda\n",
      "CPU times: user 137 µs, sys: 0 ns, total: 137 µs\n",
      "Wall time: 39.3 µs\n"
     ]
    }
   ],
   "source": [
    "m = 1000\n",
    "n = 1000\n",
    "\n",
    "Anp = np.random.randn(m,n)\n",
    "Bnp = np.random.randn(n, n)\n",
    "\n",
    "print(\"numpy\")\n",
    "%time C = Anp @ Bnp\n",
    "\n",
    "for device in ['cpu', 'cuda']:\n",
    "    print(f\"\\ndevice = {device}\")\n",
    "    A = torch.Tensor(Anp).to(device=device)\n",
    "    B = torch.Tensor(Bnp).to(device=device)\n",
    "    C = torch.mm(A, B) # run once to warm up\n",
    "\n",
    "    %time C = torch.mm(A, B)"
   ]
  },
  {
   "cell_type": "markdown",
   "metadata": {},
   "source": [
    "### Batch operations\n",
    "\n",
    "Where PyTorch (and GPUs in general) really shine are in **batch** operations.  We get extra efficiency if we do a bunch of multiplications with matrices of the same size.\n",
    "\n",
    "For matrix-matrix multiplcation, the function is [`torch.bmm`](https://pytorch.org/docs/stable/generated/torch.bmm.html#torch.bmm)\n",
    "\n",
    "Because tensors are row-major, we want the batch index to be the first index.  In the below code, the batch multiplication is equivalent to\n",
    "```python\n",
    "for i in range(k):\n",
    "    C[i] = A[i] @ B[i]\n",
    "```"
   ]
  },
  {
   "cell_type": "code",
   "execution_count": 11,
   "metadata": {},
   "outputs": [
    {
     "name": "stdout",
     "output_type": "stream",
     "text": [
      "numpy\n",
      "CPU times: user 268 ms, sys: 55 ms, total: 323 ms\n",
      "Wall time: 81.6 ms\n",
      "\n",
      "device = cpu\n",
      "CPU times: user 121 ms, sys: 16.3 ms, total: 137 ms\n",
      "Wall time: 34.6 ms\n",
      "\n",
      "device = cuda\n",
      "CPU times: user 0 ns, sys: 254 µs, total: 254 µs\n",
      "Wall time: 263 µs\n"
     ]
    }
   ],
   "source": [
    "n = 512 # matrix size\n",
    "k = 32 # batch size\n",
    "\n",
    "Anp = np.random.randn(k, n, n)\n",
    "Bnp = np.random.randn(k, n, n)\n",
    "# see numpy matmul documentation for how this performs batch multiplication\n",
    "print(\"numpy\")\n",
    "%time C = np.matmul(Anp, Bnp)\n",
    "\n",
    "for device in ['cpu', 'cuda']:\n",
    "    print(f\"\\ndevice = {device}\")\n",
    "    A = torch.randn(k, n, n).to(device=device)\n",
    "    B = torch.randn(k, n, n).to(device=device)\n",
    "    C = torch.bmm(A, B) # run once to warm up\n",
    "\n",
    "    %time C = torch.bmm(A, B)"
   ]
  },
  {
   "cell_type": "markdown",
   "metadata": {},
   "source": [
    "## Sparse Linear Algebra\n",
    "\n",
    "PyTorch also supports sparse tensors in [`torch.sparse`](https://pytorch.org/docs/stable/sparse.html).  Tensors are stored in [COOrdinate format](sparse.html#coordinate-format)."
   ]
  },
  {
   "cell_type": "code",
   "execution_count": 12,
   "metadata": {},
   "outputs": [
    {
     "data": {
      "text/plain": [
       "tensor([[0., 0., 3.],\n",
       "        [4., 0., 5.]])"
      ]
     },
     "execution_count": 12,
     "metadata": {},
     "output_type": "execute_result"
    }
   ],
   "source": [
    "i = torch.LongTensor([[0, 1, 1],\n",
    "                      [2, 0, 2]])\n",
    "v = torch.FloatTensor([3, 4, 5])\n",
    "torch.sparse.FloatTensor(i, v, torch.Size([2,3])).to_dense()"
   ]
  },
  {
   "cell_type": "markdown",
   "metadata": {},
   "source": [
    "indices are stored in a `2 x nnz` tensor of `Long` (a datatype that stores integers).  Values are stored as floats."
   ]
  },
  {
   "cell_type": "markdown",
   "metadata": {},
   "source": [
    "### Exercise\n",
    "\n",
    "Write a function that returns a sparse identity matrix of size `n` in PyTorch."
   ]
  },
  {
   "cell_type": "code",
   "execution_count": null,
   "metadata": {},
   "outputs": [],
   "source": []
  }
 ],
 "metadata": {
  "kernelspec": {
   "display_name": "Python 3 (ipykernel)",
   "language": "python",
   "name": "python3"
  },
  "language_info": {
   "codemirror_mode": {
    "name": "ipython",
    "version": 3
   },
   "file_extension": ".py",
   "mimetype": "text/x-python",
   "name": "python",
   "nbconvert_exporter": "python",
   "pygments_lexer": "ipython3",
   "version": "3.10.1"
  }
 },
 "nbformat": 4,
 "nbformat_minor": 4
}
