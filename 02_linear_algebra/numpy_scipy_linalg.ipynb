{
 "cells": [
  {
   "cell_type": "markdown",
   "metadata": {},
   "source": [
    "# Dense Linear Algebra in NumPy and SciPy"
   ]
  },
  {
   "cell_type": "markdown",
   "metadata": {},
   "source": [
    "## Linear Algebra\n",
    "\n",
    "Linear Algebra is *the* fundamental building block in scientific computing.  Why?  Even if we are dealing with complicated functions, we can always deal with approximations.  If we want to understand a function near a point (sample), the simplest approximation is the *constant* function, which says the function is the same everywhere.  This isn't very interesting.  The next level of approximation is a *linear* approximation, where we model the rate of change near that point. This is *much* more useful, even if it isn't exact, and opens up the possibility of saying all kinds of things about the system that we're studying.\n",
    "\n",
    "In other words, you can do a lot with degree-1 Taylor series.\n",
    "\n",
    "Let's first recall some definitions from your mathematics classes:\n",
    "\n",
    "A **vector space** $V$ over a field $\\mathbb{F}$ consists of a set of vectors which are related by addition and scalar multiplication\n",
    "1. $v, w\\in V$ implies $v + w \\in V$ (addition)\n",
    "2. $v \\in V, \\alpha \\in \\mathbb{F}$ implies $\\alpha v \\in \\mathbb{F}$\n",
    "\n",
    "These operations are associative and commutative, etc.  Usually what makes things interesting is the existence of a linear map.\n",
    "\n",
    "A **linear map** $M: V\\to W$ is a map from one vector space ($V$) to another ($W$, over the same field $\\mathbb{F}$) which satisfies\n",
    "$M(\\alpha v + \\beta w) = \\alpha M v + \\beta M w$\n",
    "\n",
    "Matrices encode a linear map when we have chosen bases for both $V$ and $W$.\n",
    "\n",
    "In scientific computing the field $\\mathbb{F}$ is typically either the real numbers $\\mathbb{R}$ or complex numbers $\\mathbb{C}$ (but remember we use floating point arithmetic)\n",
    "\n",
    "We will also deal with finite dimensional vector spaces. Sometimes these are explicitly vectors in Euclidean space (e.g. in computational geometry), but more often are some sort of function space.\n",
    "\n",
    "\n",
    "### Householder Notation\n",
    "\n",
    "Householder notations is standard in numerical linear algebra:\n",
    "* scalars (elements of $\\mathbb{F}$) are denoted with lower-case Greek letters $\\alpha, \\beta, \\dots$\n",
    "* vectors are denoted with lower-case Latin letters $a, b, \\dots, w, v, \\dots$\n",
    "* matrices are denoted with capital letters (Latin or Greek), such as $A, B, \\dots$\n",
    "\n",
    "This was introduced by Householder (see his book \"Theory of Matrices in Numerical Analysis\", or the modern text \"Matrix Computations\" by Golub and Van Loan).\n",
    "\n",
    "### What Do we Compute?\n",
    "\n",
    "* **basic operations** - e.g. compute $y$ where $y = Ax$\n",
    "* **solving linear systems** - find $x$ where $Ax = b$.\n",
    "* **matrix analysis** - understand the action of the matrix $A$ via eigenvalues, SVD, etc."
   ]
  },
  {
   "cell_type": "markdown",
   "metadata": {},
   "source": [
    "## Some Places where Linear Algebra Appears\n",
    "\n",
    "1. Linear regression (example of linear system)\n",
    "2. Principal components analysis (example of matrix analysis)\n",
    "3. Solving ODE/PDE (depending on details, involves basic operations and solving linear systems)\n",
    "4. Data Visualization (often use matrix analysis)\n",
    "5. Optimization (gradient descent uses basic operations, Newton's method solves a linear system)\n",
    "6. Imaging - (basic operations, solving systems, some matrix analysis)\n",
    "\n",
    "And the list goes on.\n",
    "\n",
    "### Example: Diffusion\n",
    "\n",
    "One example where linear algebra appears is in measuring the strength of a signal at several sources from receivers.  Consider a simplified problem where we have several points that emit some pollutant.  We aren't able to measure this pollutant directly at the sources.  This can happen for a variety of reasons, such as:\n",
    "1. The pollutant is completely inaccessible (e.g. far underwater)\n",
    "2. We're not able to get close for political reasons (people responsible won't cooperate)\n",
    "3. It is much cheaper to measure from other locations where we already have equipment\n",
    "\n",
    "And so on.  This problem is related to a variety of other problems in modeling heat or electromagnetic or acoustic signals, and is useful in imaging/remote sensing.  We'll denote the source locations with $x$, and the receiver locations with $y$.  We'll put these in a 2-dimensional plane"
   ]
  },
  {
   "cell_type": "code",
   "execution_count": 1,
   "metadata": {
    "scrolled": true
   },
   "outputs": [
    {
     "name": "stdout",
     "output_type": "stream",
     "text": [
      "Populating the interactive namespace from numpy and matplotlib\n"
     ]
    }
   ],
   "source": [
    "%pylab inline"
   ]
  },
  {
   "cell_type": "code",
   "execution_count": 2,
   "metadata": {},
   "outputs": [
    {
     "data": {
      "image/png": "[encoded data removed]",
      "text/plain": [
       "<Figure size 432x288 with 1 Axes>"
      ]
     },
     "metadata": {
      "needs_background": "light"
     },
     "output_type": "display_data"
    }
   ],
   "source": [
    "nx = 3\n",
    "ny = 3\n",
    "np.random.seed(0)\n",
    "x = np.random.rand(nx, 2)\n",
    "y = np.random.rand(ny, 2)\n",
    "plt.scatter(x[:,0], x[:,1], label='source')\n",
    "plt.scatter(y[:,0], y[:,1], label='receiver')\n",
    "plt.legend()\n",
    "plt.show()"
   ]
  },
  {
   "cell_type": "markdown",
   "metadata": {},
   "source": [
    "Each source emits the pollutant at rate $f$.  We represent this with a vector, where `f[i]` is the pollutant emitted by source `i`."
   ]
  },
  {
   "cell_type": "code",
   "execution_count": 3,
   "metadata": {},
   "outputs": [
    {
     "data": {
      "text/plain": [
       "array([0.56804456, 0.92559664, 0.07103606])"
      ]
     },
     "execution_count": 3,
     "metadata": {},
     "output_type": "execute_result"
    }
   ],
   "source": [
    "f = np.random.rand(nx)\n",
    "f"
   ]
  },
  {
   "cell_type": "markdown",
   "metadata": {},
   "source": [
    "We'll assume the pollutant spreads via diffusion.  What follows next might look familiar if you have taken some Physics classes before.  If not, don't worry - the basic idea is that pollution spreads out evenly from each source.  As we get further away from the source, the pollution becomes less concentrated because it is spread out over a larger area.  The function that tells us the concentration of a unit of pollution emitted by the source some distance away is called the *Greens function*.\n",
    "\n",
    "\n",
    "Let $p$ denote the strength of the pollutant as a function in the 2-dimensional plane.  This means that diffusion obeys the PDE $\\Delta p = \\sum_i f_i \\delta_{x_i} $, where $\\Delta$ is the laplacian, and $\\delta$ is a dirac delta. We're just going to measure the pollutant at the points $y$, where the receivers are located. The amount of pollutant at receiver $j$ from source $i$ is $-f_i \\frac{1}{2\\pi} \\log \\| x_i - y_j\\|_2$ (this is the Green's function for $\\Delta$).  Because the total amount of pollution at each reciever is the sum of the pollution from each source measured at that receiver, we can write\n",
    "\n",
    "$p = G f$\n",
    "\n",
    "where `p[j]` is the pollution at `y[j]`, `f[i]` is the rate of pollution at source `x[i]`, and `G[i,j]` is $-\\frac{1}{2\\pi} \\log \\|x_i - y_j\\|_2$"
   ]
  },
  {
   "cell_type": "code",
   "execution_count": 4,
   "metadata": {},
   "outputs": [
    {
     "data": {
      "text/plain": [
       "array([[0.2493779 , 0.10068884, 0.18840228],\n",
       "       [0.15224308, 0.14768804, 0.26461807],\n",
       "       [0.22302595, 0.08119219, 0.15141249]])"
      ]
     },
     "execution_count": 4,
     "metadata": {},
     "output_type": "execute_result"
    }
   ],
   "source": [
    "G = np.empty((ny, nx), dtype=np.float)\n",
    "for i in range(nx):\n",
    "    for j in range(ny):\n",
    "        G[i,j] = -1.0/(2*np.pi) * np.log(np.linalg.norm(x[i] - y[j]))\n",
    "        \n",
    "G"
   ]
  },
  {
   "cell_type": "markdown",
   "metadata": {},
   "source": [
    "Now, we can calculate the concentration of pollution at the receivers using matrix-vector multipication"
   ]
  },
  {
   "cell_type": "code",
   "execution_count": 5,
   "metadata": {},
   "outputs": [
    {
     "data": {
      "text/plain": [
       "array([0.24823837, 0.24197783, 0.21259564])"
      ]
     },
     "execution_count": 5,
     "metadata": {},
     "output_type": "execute_result"
    }
   ],
   "source": [
    "p = G @ f\n",
    "p"
   ]
  },
  {
   "cell_type": "markdown",
   "metadata": {},
   "source": [
    "However, the point is that we want to solve the inverse problem, which is to determine how much each source is polluting from our measurements at the receivers.  In words, we want to find $f$ so that $Gf = p$ for some known $p$.\n",
    "\n",
    "If you were to write down the solution, you would find $f = G^{-1} p$.  However, you should **never** explicilty invert a matrix on a computer, because you often run into inaccuracy due to floating point representation error. For now, we'll use `np.linalg.solve`"
   ]
  },
  {
   "cell_type": "code",
   "execution_count": 6,
   "metadata": {},
   "outputs": [
    {
     "data": {
      "text/plain": [
       "1.1131646879500669e-14"
      ]
     },
     "execution_count": 6,
     "metadata": {},
     "output_type": "execute_result"
    }
   ],
   "source": [
    "f2 = np.linalg.solve(G, p)\n",
    "np.linalg.norm(f2 - f)"
   ]
  },
  {
   "cell_type": "markdown",
   "metadata": {},
   "source": [
    "We see that the vector we solved for (`f2`) is very close to the true solution of `f`, and is close to machine precision.\n",
    "\n",
    "We are able to accurately obtain the rates at which the sources release pollution based on measurements from some randomly placed sensors."
   ]
  },
  {
   "cell_type": "markdown",
   "metadata": {},
   "source": [
    "## Linear Algebra In NumPy\n",
    "\n",
    "### Basic Operations\n",
    "\n",
    "Vectors and matrices in NumPy are represented using `np.ndarray`, which we have seen already.  Here is a review:"
   ]
  },
  {
   "cell_type": "code",
   "execution_count": 7,
   "metadata": {},
   "outputs": [
    {
     "data": {
      "text/plain": [
       "array([1.68700745, 1.77035189, 3.20616645])"
      ]
     },
     "execution_count": 7,
     "metadata": {},
     "output_type": "execute_result"
    }
   ],
   "source": [
    "n = 3 # dimension of vector space\n",
    "a, b = 1.5, 2.0 # scalars\n",
    "x, y = np.random.rand(n), np.random.rand(n)\n",
    "\n",
    "a*x + b*y # scalar multiplication and vector addition"
   ]
  },
  {
   "cell_type": "code",
   "execution_count": 8,
   "metadata": {},
   "outputs": [
    {
     "data": {
      "text/plain": [
       "array([ 0.98960871, -0.02812151, -3.75157541,  3.47067757])"
      ]
     },
     "execution_count": 8,
     "metadata": {},
     "output_type": "execute_result"
    }
   ],
   "source": [
    "m = 4 # dimension of target vector space\n",
    "\n",
    "A = np.random.randn(m, n) # random linear transformation\n",
    "z = A @ (a*x + b*y)\n",
    "z # image"
   ]
  },
  {
   "cell_type": "code",
   "execution_count": 9,
   "metadata": {},
   "outputs": [
    {
     "data": {
      "text/plain": [
       "array([ 0.98960871, -0.02812151, -3.75157541,  3.47067757])"
      ]
     },
     "execution_count": 9,
     "metadata": {},
     "output_type": "execute_result"
    }
   ],
   "source": [
    "z2 = a * A @ x + b * A @ y\n",
    "z2"
   ]
  },
  {
   "cell_type": "code",
   "execution_count": 10,
   "metadata": {},
   "outputs": [
    {
     "data": {
      "text/plain": [
       "array([-2.22044605e-16, -2.77555756e-16,  0.00000000e+00, -4.44089210e-16])"
      ]
     },
     "execution_count": 10,
     "metadata": {},
     "output_type": "execute_result"
    }
   ],
   "source": [
    "z - z2 # difference of image computed in two ways"
   ]
  },
  {
   "cell_type": "code",
   "execution_count": 11,
   "metadata": {},
   "outputs": [
    {
     "data": {
      "text/plain": [
       "array([-9.71445147e-17,  0.00000000e+00, -2.22044605e-16])"
      ]
     },
     "execution_count": 11,
     "metadata": {},
     "output_type": "execute_result"
    }
   ],
   "source": [
    "k = 3\n",
    "B = np.random.randn(k, m) # new linear map\n",
    "z = (B @ A) @ x\n",
    "z2 = B @ (A @ x)\n",
    "z - z2"
   ]
  },
  {
   "cell_type": "markdown",
   "metadata": {},
   "source": [
    "### Solving Linear Systems\n",
    "\n",
    "Recall from our example that for numerical reasons, you should never invert a matrix to solve a linear system. Let's see an example where we solve `A * x = b` for `x`"
   ]
  },
  {
   "cell_type": "code",
   "execution_count": 12,
   "metadata": {},
   "outputs": [],
   "source": [
    "import numpy.linalg as la\n",
    "import time"
   ]
  },
  {
   "cell_type": "code",
   "execution_count": 13,
   "metadata": {},
   "outputs": [],
   "source": [
    "n = 1000\n",
    "A = np.random.randn(n,n)\n",
    "x = np.random.rand(n)\n",
    "b = A @ x"
   ]
  },
  {
   "cell_type": "code",
   "execution_count": 14,
   "metadata": {},
   "outputs": [
    {
     "name": "stdout",
     "output_type": "stream",
     "text": [
      "0.0690619945526123 sec.\n"
     ]
    },
    {
     "data": {
      "text/plain": [
       "3.5132522804291944e-11"
      ]
     },
     "execution_count": 14,
     "metadata": {},
     "output_type": "execute_result"
    }
   ],
   "source": [
    "t0 = time.time()\n",
    "Ainv = la.inv(A) # use inversion\n",
    "x2 = Ainv @ b\n",
    "t1 = time.time()\n",
    "print(\"{} sec.\".format(t1 - t0))\n",
    "la.norm(x - x2)"
   ]
  },
  {
   "cell_type": "code",
   "execution_count": 15,
   "metadata": {},
   "outputs": [
    {
     "name": "stdout",
     "output_type": "stream",
     "text": [
      "0.013466835021972656 sec.\n"
     ]
    },
    {
     "data": {
      "text/plain": [
       "3.0873995407380632e-12"
      ]
     },
     "execution_count": 15,
     "metadata": {},
     "output_type": "execute_result"
    }
   ],
   "source": [
    "t0 = time.time()\n",
    "x2 = la.solve(A, b) # use solve function\n",
    "t1 = time.time()\n",
    "print(\"{} sec.\".format(t1 - t0))\n",
    "la.norm(x - x2)"
   ]
  },
  {
   "cell_type": "markdown",
   "metadata": {},
   "source": [
    "We see that you will get a more precise answer, and faster when using `solve` instead of a matrix inverse.\n",
    "\n",
    "If we want to do a least squares solve: $\\min_x \\|Ax - b\\|$\n",
    "\n",
    "We can use `lstsq`.  For full-rank (square) matrices, this is equivalent to `solve`.\n",
    "\n"
   ]
  },
  {
   "cell_type": "code",
   "execution_count": 16,
   "metadata": {},
   "outputs": [
    {
     "data": {
      "text/plain": [
       "7.409151322719202e-12"
      ]
     },
     "execution_count": 16,
     "metadata": {},
     "output_type": "execute_result"
    }
   ],
   "source": [
    "x1 = la.solve(A, b)\n",
    "x2 = la.lstsq(A, b, rcond=None)[0]\n",
    "la.norm(x1 - x2)"
   ]
  },
  {
   "cell_type": "markdown",
   "metadata": {},
   "source": [
    "`lstsq` can also be used with over-and under determined linear systems"
   ]
  },
  {
   "cell_type": "code",
   "execution_count": 17,
   "metadata": {},
   "outputs": [
    {
     "data": {
      "text/plain": [
       "4.474003749662003e-14"
      ]
     },
     "execution_count": 17,
     "metadata": {},
     "output_type": "execute_result"
    }
   ],
   "source": [
    "m = 1000\n",
    "n = 500\n",
    "A = np.random.randn(m, n)\n",
    "x = np.random.rand(n)\n",
    "b = A @ x\n",
    "\n",
    "x2 = la.lstsq(A, b, rcond=None)[0]\n",
    "la.norm(x - x2)"
   ]
  },
  {
   "cell_type": "markdown",
   "metadata": {},
   "source": [
    "in the above case, we are able to solve the system exactly because `b` in in the image of `A`"
   ]
  },
  {
   "cell_type": "code",
   "execution_count": 18,
   "metadata": {},
   "outputs": [
    {
     "data": {
      "text/plain": [
       "12.784556981877794"
      ]
     },
     "execution_count": 18,
     "metadata": {},
     "output_type": "execute_result"
    }
   ],
   "source": [
    "m = 500\n",
    "n = 1000\n",
    "A = np.random.randn(m, n)\n",
    "x = np.random.rand(n)\n",
    "b = A @ x\n",
    "\n",
    "x2 = la.lstsq(A, b, rcond=None)[0]\n",
    "la.norm(x - x2)"
   ]
  },
  {
   "cell_type": "markdown",
   "metadata": {},
   "source": [
    "in the above case, there are many possiblities for `x` where `A*x = b`, so we find the smallest-norm solution"
   ]
  },
  {
   "cell_type": "markdown",
   "metadata": {},
   "source": [
    "## SciPy Linear Algebra\n",
    "\n",
    "We're now going to switch gears and start using `scipy.linalg` instead of `numpy.linalg`.  From the user's point of view, there isn't really any difference, except `scipy.linalg` has all the same functions as `numpy.linalg` as well as additional functions.  The call signatures are essentially the same, but there are sometimes different implementations under the hood.\n",
    "\n",
    "* [NumPy linear algebra documentation](https://numpy.org/doc/stable/reference/routines.linalg.html)\n",
    "* [SciPy linear algebra documentation](https://docs.scipy.org/doc/scipy/reference/linalg.html)\n",
    "\n",
    "SciPy is built on top of the NumPy `ndarray` data type, so it is fully interoperable.  For example:"
   ]
  },
  {
   "cell_type": "code",
   "execution_count": 19,
   "metadata": {},
   "outputs": [
    {
     "data": {
      "text/plain": [
       "0.0"
      ]
     },
     "execution_count": 19,
     "metadata": {},
     "output_type": "execute_result"
    }
   ],
   "source": [
    "import scipy as sp\n",
    "import scipy.linalg as sla\n",
    "\n",
    "n = 1000\n",
    "A = np.random.randn(n,n)\n",
    "x = np.random.rand(n)\n",
    "b = A @ x\n",
    "\n",
    "x1 = la.solve(A, b) # numpy\n",
    "x2 = sla.solve(A, b) # scipy\n",
    "la.norm(x1 - x2)"
   ]
  },
  {
   "cell_type": "markdown",
   "metadata": {},
   "source": [
    "We'll just import `scipy.linalg` into the `la` namespace, replacing `numpy.linalg`"
   ]
  },
  {
   "cell_type": "code",
   "execution_count": 20,
   "metadata": {},
   "outputs": [],
   "source": [
    "import scipy.linalg as la"
   ]
  },
  {
   "cell_type": "markdown",
   "metadata": {},
   "source": [
    "## Matrix Factorizations\n",
    "\n",
    "A **matrix factorization** or **matrix decomposition** writes a matrix $A$ as the product of matrices $A = BCD\\dots$, where the matrices in the product typically have some special structure.\n",
    "\n",
    "Here are some examples:\n",
    "* Diagonal matrices - easy to apply and solve linear systems\n",
    "* Triangular matrices (upper or lower) - fast to solve linear systems\n",
    "* Orthonormal matrices: $Q$ orthogonal means $Q^T = Q^{\\dagger}$ (pseudoinverse)\n",
    "* Permutation matrices: sparse orthonormal matrices\n",
    "\n",
    "Most of the matrix factorizations we will see run in $O(n^3)$ time for a $n\\times n$ matrix $A$, or $O(\\min(m,n)^2 \\max(m,n))$ for a $m\\times n$ matrix $A$.\n",
    "\n",
    "If you want to get really in-depth into how to compute matrix factorizations, take a numerical linear algebra course.  We'll get them treating scipy as a black box (meaning we don't look inside).\n",
    "\n",
    "### LU decomposition\n",
    "\n",
    "The first type of factorization we'll look at is a $LU$ decomposition, where $L$ is lower-triangular and $U$ is upper triangular.  For numerical stability, this is often computed with a *pivoting* strategy, which means there is also row or column permutation matrix $P$.\n",
    "$$ A = PLU$$"
   ]
  },
  {
   "cell_type": "code",
   "execution_count": 21,
   "metadata": {},
   "outputs": [],
   "source": [
    "n = 1000\n",
    "A = np.random.randn(n, n)\n",
    "x = np.random.rand(n)\n",
    "b = A @ x\n",
    "\n",
    "P, L, U = la.lu(A)"
   ]
  },
  {
   "cell_type": "code",
   "execution_count": 22,
   "metadata": {},
   "outputs": [
    {
     "data": {
      "text/plain": [
       "5.7066142766788165e-12"
      ]
     },
     "execution_count": 22,
     "metadata": {},
     "output_type": "execute_result"
    }
   ],
   "source": [
    "la.norm(P @ L @ U - A)"
   ]
  },
  {
   "cell_type": "markdown",
   "metadata": {},
   "source": [
    "The nice thing about triangular matrices is that they can solve linear systems in $O(n^2)$ time, instead of $O(n^3)$ time for general matrices, using the forward or backward substitution algorithms.  There is a special function `solve_triangular` for this reason:"
   ]
  },
  {
   "cell_type": "code",
   "execution_count": 23,
   "metadata": {},
   "outputs": [
    {
     "data": {
      "text/plain": [
       "9.654118103977387e-13"
      ]
     },
     "execution_count": 23,
     "metadata": {},
     "output_type": "execute_result"
    }
   ],
   "source": [
    "y = L @ x\n",
    "x2 = la.solve_triangular(L, y, lower=True)\n",
    "la.norm(x2 - x)"
   ]
  },
  {
   "cell_type": "markdown",
   "metadata": {},
   "source": [
    "We can replicate the functionality of `solve` using an LU factorization, using the expression\n",
    "$$A^{-1} = U^{-1} L^{-1} P^T$$"
   ]
  },
  {
   "cell_type": "code",
   "execution_count": 24,
   "metadata": {},
   "outputs": [],
   "source": [
    "def my_solve(A, b):\n",
    "    \"\"\"\n",
    "    solve A * x = b for x\n",
    "    \n",
    "    use LU decomposition\n",
    "    \"\"\"\n",
    "    P, L, U = la.lu(A)\n",
    "    x = la.solve_triangular(\n",
    "            U,\n",
    "            la.solve_triangular(\n",
    "                L,\n",
    "                P.T @ b,\n",
    "                lower=True\n",
    "            ),\n",
    "            lower=False\n",
    "        )\n",
    "    return x"
   ]
  },
  {
   "cell_type": "code",
   "execution_count": 25,
   "metadata": {},
   "outputs": [
    {
     "data": {
      "text/plain": [
       "3.3830152231589354e-11"
      ]
     },
     "execution_count": 25,
     "metadata": {},
     "output_type": "execute_result"
    }
   ],
   "source": [
    "b = A @ x\n",
    "x2 = my_solve(A, b)\n",
    "la.norm(x - x2)"
   ]
  },
  {
   "cell_type": "markdown",
   "metadata": {},
   "source": [
    "### Exercise\n",
    "\n",
    "1. Use the `time` module to perform an experiment to verify that `solve_triangular` takes $O(n^2)$ time.  Hint: take LU decompositions of random matrices to get triangular factors of different sizes."
   ]
  },
  {
   "cell_type": "code",
   "execution_count": 26,
   "metadata": {},
   "outputs": [],
   "source": [
    "## Your code here"
   ]
  },
  {
   "cell_type": "code",
   "execution_count": 27,
   "metadata": {
    "scrolled": true
   },
   "outputs": [
    {
     "data": {
      "image/png": "[encoded data removed]",
      "text/plain": [
       "<Figure size 432x288 with 1 Axes>"
      ]
     },
     "metadata": {
      "needs_background": "light"
     },
     "output_type": "display_data"
    }
   ],
   "source": [
    "import time \n",
    "tlist = list()\n",
    "n  = np.logspace(0,np.log10(1000), num=100) \n",
    "n = np.int64(np.round(n))\n",
    "\n",
    "for i in n:\n",
    "    A = np.random.randn(i, i)\n",
    "    x = np.random.rand(i)\n",
    "    b = A @ x\n",
    "    P, L, U = la.lu(A)\n",
    "    y = L @ x\n",
    "\n",
    "    #Time for solve_triangular\n",
    "    t0Tri = time.time()\n",
    "    la.solve_triangular(L, y, lower=True)\n",
    "    t1Tri = time.time()\n",
    "    timeTri = t1Tri-t0Tri\n",
    "    timeTri\n",
    "    tlist.append(timeTri)\n",
    "\n",
    "plt.plot(log(n),tlist, label='time vs log(n)')\n",
    "plt.xlabel(\"n (in log) \")\n",
    "plt.ylabel(\"Time\")\n",
    "plt.show()"
   ]
  },
  {
   "cell_type": "markdown",
   "metadata": {},
   "source": [
    "2. Suppose $A$ is $n\\times n$, so the $LU$ factorization above takes $O(n^3)$ time.  What is a big-O expression for the time to run `my_solve` on $A$? "
   ]
  },
  {
   "cell_type": "markdown",
   "metadata": {},
   "source": [
    "The big-O expression for the time to run my_solve on A is O(n^3) + O(n^2). LU factorization takes O(n^3) and each inverse of a triangular matrix takes O(n^2), but two triangular matrices are still O(n^2), and then we sum them up since there is an order performing the algorithm not composed."
   ]
  },
  {
   "cell_type": "markdown",
   "metadata": {},
   "source": [
    "### QR decomposition\n",
    "\n",
    "The $QR$ decomposition, $A = QR$, contains a matrix $Q$ with orthonormal columns, and an upper triangular matrix $R$.  For stability reasons, column pivoting is often used which means there is often a permutation matrix $P$ and $A = QRP$."
   ]
  },
  {
   "cell_type": "code",
   "execution_count": 28,
   "metadata": {},
   "outputs": [
    {
     "data": {
      "text/plain": [
       "4.938391665942739e-13"
      ]
     },
     "execution_count": 28,
     "metadata": {},
     "output_type": "execute_result"
    }
   ],
   "source": [
    "m = 1000\n",
    "n = 500\n",
    "A = np.random.randn(m, n)\n",
    "\n",
    "Q, R = la.qr(A, mode='economic') # no pivoting\n",
    "la.norm(Q @ R  - A)"
   ]
  },
  {
   "cell_type": "code",
   "execution_count": 29,
   "metadata": {},
   "outputs": [
    {
     "data": {
      "text/plain": [
       "((1000, 500), (500, 500))"
      ]
     },
     "execution_count": 29,
     "metadata": {},
     "output_type": "execute_result"
    }
   ],
   "source": [
    "Q.shape, R.shape"
   ]
  },
  {
   "cell_type": "code",
   "execution_count": 30,
   "metadata": {},
   "outputs": [
    {
     "data": {
      "text/plain": [
       "5.320677169957867e-13"
      ]
     },
     "execution_count": 30,
     "metadata": {},
     "output_type": "execute_result"
    }
   ],
   "source": [
    "Q, R, P = la.qr(A, pivoting=True) # pivoting\n",
    "la.norm((Q @ R)  - A[:,P])"
   ]
  },
  {
   "cell_type": "markdown",
   "metadata": {},
   "source": [
    "The QR factorization is used for least-squares solutions, because `Q @ Q.T` projects a vector onto the subspace spanned by the matrix `A`"
   ]
  },
  {
   "cell_type": "code",
   "execution_count": 31,
   "metadata": {},
   "outputs": [],
   "source": [
    "def my_lstsq(A, b):\n",
    "    \"\"\"\n",
    "    least squares solution ||b - A*x||\n",
    "    \n",
    "    Uses QR decomposition\n",
    "    \"\"\"\n",
    "    Q, R = la.qr(A, mode='economic')\n",
    "    x = la.solve_triangular(R, Q.T @ b, lower=False)\n",
    "    return x"
   ]
  },
  {
   "cell_type": "code",
   "execution_count": 32,
   "metadata": {},
   "outputs": [
    {
     "data": {
      "text/plain": [
       "4.502472005077859e-14"
      ]
     },
     "execution_count": 32,
     "metadata": {},
     "output_type": "execute_result"
    }
   ],
   "source": [
    "x = np.random.rand(n)\n",
    "b = A @ x\n",
    "\n",
    "x1 = la.lstsq(A, b)[0]\n",
    "x2 = my_lstsq(A, b)\n",
    "la.norm(x1 - x2)"
   ]
  },
  {
   "cell_type": "markdown",
   "metadata": {
    "tags": []
   },
   "source": [
    "### Excercise\n",
    "\n",
    "Suppose $A$ is a $n\\times n$ matrix, and that the $QR$ factorization takes $O(n^3)$ time.  What is the time to run `my_lstsq` using $A$ in big-O notation?"
   ]
  },
  {
   "cell_type": "markdown",
   "metadata": {},
   "source": [
    "### Eigenvalue Decompositions\n",
    "\n",
    "A vector $x$ is an eigenvector of $A$ with eigenvalue $\\lambda$ if $Ax = x \\lambda$.  An eigenvalue decomposition is a decomposition $A = X \\Lambda X^{-1}$ where $\\Lambda$ is a diagonal matrix.  We can compute such a decomposition using `eig`:"
   ]
  },
  {
   "cell_type": "code",
   "execution_count": 33,
   "metadata": {},
   "outputs": [],
   "source": [
    "n = 1000\n",
    "A = np.random.randn(n, n)\n",
    "Lam, X = la.eig(A)"
   ]
  },
  {
   "cell_type": "markdown",
   "metadata": {},
   "source": [
    "columns of `X` are eigenvectors, and eigenvalues are diagonal entries of `Lam`"
   ]
  },
  {
   "cell_type": "code",
   "execution_count": 34,
   "metadata": {},
   "outputs": [
    {
     "data": {
      "text/plain": [
       "3.3326507463611847e-13"
      ]
     },
     "execution_count": 34,
     "metadata": {},
     "output_type": "execute_result"
    }
   ],
   "source": [
    "x = X[:,0]\n",
    "la.norm(A @ x - Lam[0] * x)"
   ]
  },
  {
   "cell_type": "markdown",
   "metadata": {},
   "source": [
    "When `A` is symmetric (or hermitian), there exists and orthonormal basis where every basis element is an eigenvector.  In this case, we can write $A = U\\Lambda U^H$.  There is a special function `eigh` for such a situation."
   ]
  },
  {
   "cell_type": "code",
   "execution_count": 35,
   "metadata": {},
   "outputs": [],
   "source": [
    "A = np.random.randn(n,n)\n",
    "A = A + A.T # make symmetric\n",
    "Lam, U = la.eigh(A)"
   ]
  },
  {
   "cell_type": "code",
   "execution_count": 36,
   "metadata": {},
   "outputs": [
    {
     "data": {
      "text/plain": [
       "2.2105780945092506e-13"
      ]
     },
     "execution_count": 36,
     "metadata": {},
     "output_type": "execute_result"
    }
   ],
   "source": [
    "x = U[:,0]\n",
    "la.norm(A @ x - Lam[0] * x)"
   ]
  },
  {
   "cell_type": "markdown",
   "metadata": {},
   "source": [
    "Computing eigenvector decompositions takes $O(n^3)$ time for a $n\\times n$ matrix.\n",
    "\n",
    "### Exercises\n",
    "\n",
    "1. Both `eig` and `eigh` take $O(n^3)$ time.  Which is faster in practice on a symmetric matrix?  Do they produce the same answer on the same symmetric matrix?\n",
    "\n",
    "As shown in the figure, `eigh` is much faster than `eig` in practice. We checked the eigenvalues produced by both methods (eigenvalues of `eigh` are sorted), they produced the same answer.\n",
    "\n",
    "2. Write a function that solves a linear system with a symmetric matrix using the Eigenvalue decomposition.  Is this function faster or slower than using LU in `my_solve`?\n",
    "\n",
    "As shown in the figure, `my_solve` is faster than `eigh` in practice. "
   ]
  },
  {
   "cell_type": "code",
   "execution_count": 40,
   "metadata": {},
   "outputs": [],
   "source": [
    "## Your code here\n",
    "'''\n",
    "1. Compare the speed and difference of eig & eigh\n",
    "'''\n",
    "n = np.logspace(0,np.log10(1000), num=100) \n",
    "n = np.int64(np.round(n))\n",
    "teig=list()\n",
    "teigh=list()\n",
    "valdiff = list()\n",
    "for i in n:\n",
    "    A = np.random.randn(i,i)\n",
    "    A = A + A.T\n",
    "    t0eig = time.time()\n",
    "    Lam1, X = la.eig(A)\n",
    "    t1eig = time.time()\n",
    "    teigdiff = t1eig-t0eig\n",
    "    teig.append(teigdiff)\n",
    "    \n",
    "    t0eigh = time.time()\n",
    "    Lam2, U = la.eigh(A)\n",
    "    t1eigh = time.time()\n",
    "    teighdiff = t1eigh-t0eigh\n",
    "    teigh.append(teighdiff)\n",
    "    \n",
    "    valdiff.append(np.max(np.abs(np.sort(Lam1) - np.sort(Lam2))))"
   ]
  },
  {
   "cell_type": "code",
   "execution_count": 41,
   "metadata": {},
   "outputs": [
    {
     "data": {
      "image/png": "[encoded data removed]",
      "text/plain": [
       "<Figure size 432x288 with 1 Axes>"
      ]
     },
     "metadata": {
      "needs_background": "light"
     },
     "output_type": "display_data"
    },
    {
     "data": {
      "text/plain": [
       "2.4442670110147446e-12"
      ]
     },
     "execution_count": 41,
     "metadata": {},
     "output_type": "execute_result"
    }
   ],
   "source": [
    "'''\n",
    "1. Time comparison\n",
    "'''\n",
    "plt.plot(np.log(n),teig, label='eig')\n",
    "plt.plot(np.log(n),teigh, label='eigh')\n",
    "plt.xlabel(\"n (in log) \")\n",
    "plt.ylabel(\"Time\")\n",
    "plt.legend(loc='best')\n",
    "plt.show()\n",
    "\n",
    "'''\n",
    "1. Difference\n",
    "'''\n",
    "np.max(valdiff)"
   ]
  },
  {
   "cell_type": "code",
   "execution_count": 61,
   "metadata": {},
   "outputs": [],
   "source": [
    "'''\n",
    "2. Compare the speed of EVD v.s. LU when solving linear systems\n",
    "'''\n",
    "def solve_eigh(A, b):\n",
    "    Lam, U = la.eigh(A)\n",
    "    Ainv = U@np.diag(1/Lam)@U.T\n",
    "    x = Ainv@b\n",
    "    return(x)\n",
    "\n",
    "\n",
    "n = np.logspace(0,np.log10(1000), num=100) \n",
    "n = np.int64(np.round(n))\n",
    "tlu=list()\n",
    "teigh=list()\n",
    "valdiff = list()\n",
    "for i in n:\n",
    "    A = np.random.randn(i,i)\n",
    "    A = A + A.T\n",
    "    x = np.random.rand(i)\n",
    "    b = A @ x\n",
    "    t0lu = time.time()\n",
    "    x1 = my_solve(A, b)\n",
    "    t1lu = time.time()\n",
    "    tludiff = t1lu-t0lu\n",
    "    tlu.append(tludiff)\n",
    "    \n",
    "    t0eigh = time.time()\n",
    "    x2 = solve_eigh(A,b)\n",
    "    t1eigh = time.time()\n",
    "    teighdiff = t1eigh-t0eigh\n",
    "    teigh.append(teighdiff)"
   ]
  },
  {
   "cell_type": "code",
   "execution_count": 62,
   "metadata": {},
   "outputs": [
    {
     "data": {
      "image/png": "[encoded data removed]",
      "text/plain": [
       "<Figure size 432x288 with 1 Axes>"
      ]
     },
     "metadata": {
      "needs_background": "light"
     },
     "output_type": "display_data"
    }
   ],
   "source": [
    "'''\n",
    "2. Time comparison\n",
    "'''\n",
    "plt.plot(np.log(n),tlu, label='lu')\n",
    "plt.plot(np.log(n),teigh, label='eigh')\n",
    "plt.xlabel(\"n (in log) \")\n",
    "plt.ylabel(\"Time\")\n",
    "plt.legend(loc='best')\n",
    "plt.show()"
   ]
  },
  {
   "cell_type": "markdown",
   "metadata": {},
   "source": [
    "### SVD\n",
    "\n",
    "The singular value decomposition is an extremely useful practical and theoretical tool.  We can decompose a $m\\times n$ matrix $A$ as $A = U \\Sigma V^T$, where $U$ is a $m \\times m$ matrix with orthonormal columns (called left singular vectors), $V$ is a $n\\times n$ matrix with orthonormal columns (called right singular vectors), and $\\Sigma$ is a diagonal matrix with positive entries decreasing in magnitude (called singular values).\n",
    "\n",
    "The top singular value solves the variational problem $\\sigma_0 = \\max u^T A v$ subject to $\\|u\\|_2 = 1, \\|v\\|_2=1$, and describes the direction in which $A$ induces the largest change in maginitude in a vector. The next singular value is defined similarly on the subspaces orthogonal to $u$ and $v$, and so on."
   ]
  },
  {
   "cell_type": "markdown",
   "metadata": {},
   "source": [
    "One way to visualize the action of a matrix is seeing how it maps the unit sphere.  The image is an ellipsoid, and the right singular vectors give the directions of the axes, and the singular values give the lengths of these axes."
   ]
  },
  {
   "cell_type": "code",
   "execution_count": 35,
   "metadata": {},
   "outputs": [],
   "source": [
    "n = 2\n",
    "A = np.random.randn(n,n)\n",
    "U, S, Vt = la.svd(A)"
   ]
  },
  {
   "cell_type": "code",
   "execution_count": 36,
   "metadata": {},
   "outputs": [
    {
     "data": {
      "image/png": "[encoded data removed]",
      "text/plain": [
       "<Figure size 720x720 with 1 Axes>"
      ]
     },
     "metadata": {
      "needs_background": "light"
     },
     "output_type": "display_data"
    }
   ],
   "source": [
    "theta = np.linspace(0, 2*np.pi, num=200, endpoint=True)\n",
    "xx = np.vstack((np.cos(theta), np.sin(theta)))\n",
    "yy = A @ xx\n",
    "\n",
    "fig = plt.figure(figsize=(10,10))\n",
    "ax = fig.add_subplot(111)\n",
    "ax.plot(yy[0], yy[1])\n",
    "ax.set_aspect('equal')\n",
    "ax.scatter(S*U[0], S*U[1])\n",
    "plt.show()"
   ]
  },
  {
   "cell_type": "markdown",
   "metadata": {},
   "source": [
    "### Exercises\n",
    "\n",
    "1. Computing the SVD takes $O(n^3)$ time for a $n\\times n$ matrix, just like all the other matrix factorizations we've seen.  Make plots of the runtimes of `svd`, `eigh`, `eig`, `qr` and `lu` as we increase $n$.  Which is fastest in practice?\n",
    "\n",
    "From the plot, we see that from slowest to fastest is: `eig, svd, eigh, qr, lu`. `lu` is fastest in practice.\n",
    "\n",
    "2. Write a function that solves a linear system using the Singular Value Decomposition.\n",
    "3. What is the SVD of a Hermitian (symmetric matrix)?  Is `svd` or `eigh` faster?\n",
    "\n",
    "From the last figure, we can see that `eigh` is faster on a Hermitian."
   ]
  },
  {
   "cell_type": "code",
   "execution_count": 54,
   "metadata": {},
   "outputs": [],
   "source": [
    "'''\n",
    "1. Time comparison of SVD, eig, eigh, QR, LU\n",
    "'''\n",
    "n = np.logspace(0,np.log10(1000), num=100) \n",
    "n = np.int64(np.round(n))\n",
    "tsvd=list()\n",
    "teigh=list()\n",
    "teig=list()\n",
    "tqr=list()\n",
    "tlu=list()\n",
    "\n",
    "for i in n:\n",
    "    A = np.random.randn(i,i)\n",
    "\n",
    "    t0 = time.time()\n",
    "    U, S, Vt = la.svd(A)\n",
    "    t1 = time.time()\n",
    "    tsvd.append(t1-t0)\n",
    "    \n",
    "    t0 = time.time()    \n",
    "    Lam, U = la.eig(A)\n",
    "    t1 = time.time()\n",
    "    teig.append(t1-t0)\n",
    "    \n",
    "    t0 = time.time()    \n",
    "    Lam, U = la.eigh(A)\n",
    "    t1 = time.time()\n",
    "    teigh.append(t1-t0)\n",
    "    \n",
    "    t0 = time.time()    \n",
    "    Q, R = la.qr(A, mode='economic') # no pivoting\n",
    "    t1 = time.time()\n",
    "    tqr.append(t1-t0)\n",
    "    \n",
    "    t0 = time.time()    \n",
    "    P, L, U = la.lu(A)\n",
    "    t1 = time.time()\n",
    "    tlu.append(t1-t0)"
   ]
  },
  {
   "cell_type": "code",
   "execution_count": 56,
   "metadata": {},
   "outputs": [
    {
     "data": {
      "image/png": "[encoded data removed]",
      "text/plain": [
       "<Figure size 432x288 with 1 Axes>"
      ]
     },
     "metadata": {
      "needs_background": "light"
     },
     "output_type": "display_data"
    }
   ],
   "source": [
    "'''\n",
    "1. Time comparison of SVD, eig, eigh, QR, LU\n",
    "'''\n",
    "plt.plot(np.log(n),teig, label='eig')\n",
    "plt.plot(np.log(n),tsvd, label='svd')\n",
    "plt.plot(np.log(n),teigh, label='eigh')\n",
    "plt.plot(np.log(n),tqr, label='qr')\n",
    "plt.plot(np.log(n),tlu, label='lu')\n",
    "plt.xlabel(\"n (in log) \")\n",
    "plt.ylabel(\"Time\")\n",
    "plt.legend(loc='best')\n",
    "plt.show()"
   ]
  },
  {
   "cell_type": "code",
   "execution_count": 63,
   "metadata": {},
   "outputs": [],
   "source": [
    "'''\n",
    "2. Define a function that solves a linear system using SVD\n",
    "'''\n",
    "def solve_svd(A, b):\n",
    "    U, S, Vt = la.svd(A)\n",
    "    Ainv = U@np.diag(1/S)@Vt\n",
    "    x = Ainv@b\n",
    "    return(x)"
   ]
  },
  {
   "cell_type": "code",
   "execution_count": 67,
   "metadata": {},
   "outputs": [],
   "source": [
    "'''\n",
    "3. Compare svd and eigh on symmetric matrices\n",
    "'''\n",
    "\n",
    "n = np.logspace(0,np.log10(2000), num=100) \n",
    "n = np.int64(np.round(n))\n",
    "tsvd=list()\n",
    "teigh=list()\n",
    "\n",
    "for i in n:\n",
    "    A = np.random.randn(i,i)\n",
    "    A = A + A.T\n",
    "    t0 = time.time()\n",
    "    U, S, Vt = la.svd(A)\n",
    "    t1 = time.time()\n",
    "    tsvd.append(t1-t0)\n",
    "\n",
    "    t0 = time.time()    \n",
    "    Lam, U = la.eigh(A)\n",
    "    t1 = time.time()\n",
    "    teigh.append(t1-t0)\n",
    "    "
   ]
  },
  {
   "cell_type": "code",
   "execution_count": 68,
   "metadata": {},
   "outputs": [
    {
     "data": {
      "image/png": "[encoded data removed]",
      "text/plain": [
       "<Figure size 432x288 with 1 Axes>"
      ]
     },
     "metadata": {
      "needs_background": "light"
     },
     "output_type": "display_data"
    }
   ],
   "source": [
    "plt.plot(np.log(n),tsvd, label='svd')\n",
    "plt.plot(np.log(n),teigh, label='eigh')\n",
    "plt.xlabel(\"n (in log) \")\n",
    "plt.ylabel(\"Time\")\n",
    "plt.legend(loc='best')\n",
    "plt.show()"
   ]
  }
 ],
 "metadata": {
  "kernelspec": {
   "display_name": "Python 3",
   "language": "python",
   "name": "python3"
  },
  "language_info": {
   "codemirror_mode": {
    "name": "ipython",
    "version": 3
   },
   "file_extension": ".py",
   "mimetype": "text/x-python",
   "name": "python",
   "nbconvert_exporter": "python",
   "pygments_lexer": "ipython3",
   "version": "3.9.5"
  }
 },
 "nbformat": 4,
 "nbformat_minor": 4
}
