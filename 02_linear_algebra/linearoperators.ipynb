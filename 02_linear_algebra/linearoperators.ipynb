{
 "cells": [
  {
   "cell_type": "markdown",
   "metadata": {},
   "source": [
    "# Linear Operators"
   ]
  },
  {
   "cell_type": "code",
   "execution_count": 1,
   "metadata": {},
   "outputs": [
    {
     "name": "stdout",
     "output_type": "stream",
     "text": [
      "Populating the interactive namespace from numpy and matplotlib\n"
     ]
    }
   ],
   "source": [
    "%pylab inline\n",
    "import scipy as sp\n",
    "import scipy.sparse as sparse\n",
    "import scipy.sparse.linalg as sla"
   ]
  },
  {
   "cell_type": "markdown",
   "metadata": {},
   "source": [
    "In linear algebra, a linear transformation, linear operator, or linear map, is a map of vector spaces $T:V \\to W$ where \n",
    "$$T(\\alpha v_1 + \\beta v_2) = \\alpha T v_1 + \\beta T v_2$$\n",
    "\n",
    "If you choose bases for the vector spaces $V$ and $W$, you can represent $T$ using a (dense) matrix.  However, there are many situations where we may want to represent $T$ in some other format which will allow us to do faster matrix-vector and matrix-matrix multiplications.\n",
    "\n",
    "The case of a sparse matrix is handled by [special matrix formats](sparse.html), but there are also situations in which dense matrices can also be applied quickly.\n",
    "\n",
    "## Low Rank Matrices\n",
    "\n",
    "The easiest situation to describe is a low-rank matrix.  We saw an example of this when we first saw object-oriented programming in the [`LinearMap` class](https://caam37830.github.io/book/00_python/classes.html#class-inheritance). SciPy provides a very similar class which can be used to construct arbitrary linear operators, which is called `LinearOperator`.\n",
    "\n",
    "The `LinearOperator` class can be found in `scipy.sparse.linalg`.  The `aslinearoperator` function lets us to treat dense and sparse arrays as `LinearOperators`."
   ]
  },
  {
   "cell_type": "code",
   "execution_count": 2,
   "metadata": {},
   "outputs": [],
   "source": [
    "from scipy.sparse.linalg import LinearOperator, aslinearoperator"
   ]
  },
  {
   "cell_type": "markdown",
   "metadata": {},
   "source": [
    "As an example, let's construct a `LinearOperator` that acts as the matrix of all ones. This matrix is rank-1 and can be written as $11^T$, where $1$ is a vector of the appropriate dimension."
   ]
  },
  {
   "cell_type": "code",
   "execution_count": 4,
   "metadata": {},
   "outputs": [
    {
     "data": {
      "text/plain": [
       "<10x20 _ProductLinearOperator with dtype=float64>"
      ]
     },
     "execution_count": 4,
     "metadata": {},
     "output_type": "execute_result"
    }
   ],
   "source": [
    "n = 20\n",
    "m = 10\n",
    "onesn = aslinearoperator(np.ones((n,1)))\n",
    "onesm = aslinearoperator(np.ones((m,1)))\n",
    "A = onesm @ onesn.T\n",
    "A"
   ]
  },
  {
   "cell_type": "code",
   "execution_count": 5,
   "metadata": {},
   "outputs": [
    {
     "data": {
      "text/plain": [
       "array([3.05575978, 3.05575978, 3.05575978, 3.05575978, 3.05575978,\n",
       "       3.05575978, 3.05575978, 3.05575978, 3.05575978, 3.05575978])"
      ]
     },
     "execution_count": 5,
     "metadata": {},
     "output_type": "execute_result"
    }
   ],
   "source": [
    "v = np.random.randn(n)\n",
    "A @ v"
   ]
  },
  {
   "cell_type": "code",
   "execution_count": 6,
   "metadata": {},
   "outputs": [
    {
     "data": {
      "text/plain": [
       "3.055759776070151"
      ]
     },
     "execution_count": 6,
     "metadata": {},
     "output_type": "execute_result"
    }
   ],
   "source": [
    "v.sum()"
   ]
  },
  {
   "cell_type": "code",
   "execution_count": 7,
   "metadata": {},
   "outputs": [
    {
     "data": {
      "text/plain": [
       "array([[1., 1., 1., 1., 1., 1., 1., 1., 1., 1., 1., 1., 1., 1., 1., 1.,\n",
       "        1., 1., 1., 1.],\n",
       "       [1., 1., 1., 1., 1., 1., 1., 1., 1., 1., 1., 1., 1., 1., 1., 1.,\n",
       "        1., 1., 1., 1.],\n",
       "       [1., 1., 1., 1., 1., 1., 1., 1., 1., 1., 1., 1., 1., 1., 1., 1.,\n",
       "        1., 1., 1., 1.],\n",
       "       [1., 1., 1., 1., 1., 1., 1., 1., 1., 1., 1., 1., 1., 1., 1., 1.,\n",
       "        1., 1., 1., 1.],\n",
       "       [1., 1., 1., 1., 1., 1., 1., 1., 1., 1., 1., 1., 1., 1., 1., 1.,\n",
       "        1., 1., 1., 1.],\n",
       "       [1., 1., 1., 1., 1., 1., 1., 1., 1., 1., 1., 1., 1., 1., 1., 1.,\n",
       "        1., 1., 1., 1.],\n",
       "       [1., 1., 1., 1., 1., 1., 1., 1., 1., 1., 1., 1., 1., 1., 1., 1.,\n",
       "        1., 1., 1., 1.],\n",
       "       [1., 1., 1., 1., 1., 1., 1., 1., 1., 1., 1., 1., 1., 1., 1., 1.,\n",
       "        1., 1., 1., 1.],\n",
       "       [1., 1., 1., 1., 1., 1., 1., 1., 1., 1., 1., 1., 1., 1., 1., 1.,\n",
       "        1., 1., 1., 1.],\n",
       "       [1., 1., 1., 1., 1., 1., 1., 1., 1., 1., 1., 1., 1., 1., 1., 1.,\n",
       "        1., 1., 1., 1.]])"
      ]
     },
     "execution_count": 7,
     "metadata": {},
     "output_type": "execute_result"
    }
   ],
   "source": [
    "A @ np.eye(A.shape[1])"
   ]
  },
  {
   "cell_type": "markdown",
   "metadata": {},
   "source": [
    "Let's do a timing comparison between the `LinearOperator` and a dense matrix."
   ]
  },
  {
   "cell_type": "code",
   "execution_count": 8,
   "metadata": {},
   "outputs": [],
   "source": [
    "n = 2000\n",
    "m = 1000\n",
    "onesn = aslinearoperator(np.ones((n,1)))\n",
    "onesm = aslinearoperator(np.ones((m,1)))\n",
    "Alo = onesm @ onesn.T\n",
    "Ad = np.ones((m,n)) # dense array of all ones"
   ]
  },
  {
   "cell_type": "code",
   "execution_count": 10,
   "metadata": {},
   "outputs": [
    {
     "name": "stdout",
     "output_type": "stream",
     "text": [
      "time for linear operator: 0.00027561187744140625 sec.\n",
      "time for dense: 0.0016298294067382812 sec.\n",
      "LinearOperator speedup = 5.913494809688581 x\n",
      "2.1907600843918615e-12\n"
     ]
    }
   ],
   "source": [
    "import time\n",
    "\n",
    "x = np.random.randn(n)\n",
    "y = np.empty(m)\n",
    "\n",
    "t0 = time.time()\n",
    "y1 = Alo @ x\n",
    "t1 = time.time()\n",
    "print(\"time for linear operator: {} sec.\".format(t1 - t0))\n",
    "tlo = t1 - t0\n",
    "\n",
    "t0 = time.time()\n",
    "y2 = Ad @ x\n",
    "t1 = time.time()\n",
    "print(\"time for dense: {} sec.\".format(t1 - t0))\n",
    "td = t1 - t0\n",
    "\n",
    "print(\"LinearOperator speedup = {} x\".format(td / tlo))\n",
    "print(np.linalg.norm(y2 - y1))\n"
   ]
  },
  {
   "cell_type": "markdown",
   "metadata": {},
   "source": [
    "## Linear Operators from Functions\n",
    "\n",
    "We can also specify linear operators through functions.\n",
    "\n",
    "Another way to characterize the action of a matrix containing all 1s is that it sums up all the entries in a vector of length `n`, and repeats the sum in every entry in a vector of length `m`.  For simplicity, we'll assume that `m = n`."
   ]
  },
  {
   "cell_type": "code",
   "execution_count": 16,
   "metadata": {},
   "outputs": [
    {
     "data": {
      "text/plain": [
       "8.881784197001252e-16"
      ]
     },
     "execution_count": 16,
     "metadata": {},
     "output_type": "execute_result"
    }
   ],
   "source": [
    "n = 5\n",
    "a = 1.0\n",
    "b = 2.0\n",
    "x = np.random.randn(n)\n",
    "y = np.random.randn(n)\n",
    "np.sum(a*x + b*y) - (a*np.sum(x) + b*np.sum(y))"
   ]
  },
  {
   "cell_type": "code",
   "execution_count": 11,
   "metadata": {},
   "outputs": [],
   "source": [
    "# a function that sums the entries in a vector and repeats the sum in every entry of a vector of the same shape.\n",
    "# works on columns of matrices as well\n",
    "A = lambda X : np.sum(X, axis=0).reshape(1,-1).repeat(X.shape[0], axis=0)"
   ]
  },
  {
   "cell_type": "code",
   "execution_count": 14,
   "metadata": {},
   "outputs": [
    {
     "data": {
      "text/plain": [
       "array([[2.1794517 , 0.80902747],\n",
       "       [2.1794517 , 0.80902747],\n",
       "       [2.1794517 , 0.80902747],\n",
       "       [2.1794517 , 0.80902747],\n",
       "       [2.1794517 , 0.80902747]])"
      ]
     },
     "execution_count": 14,
     "metadata": {},
     "output_type": "execute_result"
    }
   ],
   "source": [
    "x = np.random.rand(5, 2)\n",
    "A(x)"
   ]
  },
  {
   "cell_type": "code",
   "execution_count": 15,
   "metadata": {},
   "outputs": [
    {
     "data": {
      "text/plain": [
       "array([2.1794517 , 0.80902747])"
      ]
     },
     "execution_count": 15,
     "metadata": {},
     "output_type": "execute_result"
    }
   ],
   "source": [
    "np.sum(x, axis=0)"
   ]
  },
  {
   "cell_type": "markdown",
   "metadata": {},
   "source": [
    "The problem is that this function doesn't play nicely with other linear operators.  In order to do that, we wrap the function in the `LinearOperator` class.  For a `LinearOperator` `A`, We define the functions\n",
    "* `matvec` (computes `A @ x`)\n",
    "* `rmatvec` (computes `A.T @ x`)\n",
    "* `matmat` (computes `A @ B`)\n",
    "* `rmatmat` (computes `A.T @ B`)\n",
    "as well as the shape of the operator.  Note that you don't need to define all the functions (`matvec` is most important), but you may get errors in certain situations (e.g. taking transpose) if you don't."
   ]
  },
  {
   "cell_type": "code",
   "execution_count": 24,
   "metadata": {},
   "outputs": [],
   "source": [
    "# works on square matrices\n",
    "Afun = lambda X : np.sum(X, axis=0).reshape(1,-1).repeat(X.shape[0], axis=0)\n",
    "\n",
    "m = 10 # linear operator of size 10\n",
    "\n",
    "A = LinearOperator(\n",
    "    shape   = (m,m),\n",
    "    matvec  = Afun,\n",
    "    rmatvec = Afun,\n",
    "    matmat  = Afun,\n",
    "    rmatmat = Afun,\n",
    "    dtype=np.float   \n",
    ")"
   ]
  },
  {
   "cell_type": "code",
   "execution_count": 25,
   "metadata": {
    "tags": [
     "raises-exception"
    ]
   },
   "outputs": [
    {
     "ename": "ValueError",
     "evalue": "matmul: Input operand 0 does not have enough dimensions (has 0, gufunc core with signature (n?,k),(k,m?)->(n?,m?) requires 1)",
     "output_type": "error",
     "traceback": [
      "\u001b[0;31m---------------------------------------------------------------------------\u001b[0m",
      "\u001b[0;31mValueError\u001b[0m                                Traceback (most recent call last)",
      "\u001b[0;32m<ipython-input-25-e8ef22334d5e>\u001b[0m in \u001b[0;36m<module>\u001b[0;34m\u001b[0m\n\u001b[1;32m      1\u001b[0m \u001b[0mx\u001b[0m \u001b[0;34m=\u001b[0m \u001b[0mnp\u001b[0m\u001b[0;34m.\u001b[0m\u001b[0mrandom\u001b[0m\u001b[0;34m.\u001b[0m\u001b[0mrand\u001b[0m\u001b[0;34m(\u001b[0m\u001b[0mm\u001b[0m\u001b[0;34m)\u001b[0m\u001b[0;34m\u001b[0m\u001b[0;34m\u001b[0m\u001b[0m\n\u001b[0;32m----> 2\u001b[0;31m \u001b[0mAfun\u001b[0m \u001b[0;34m@\u001b[0m \u001b[0mx\u001b[0m\u001b[0;34m\u001b[0m\u001b[0;34m\u001b[0m\u001b[0m\n\u001b[0m",
      "\u001b[0;31mValueError\u001b[0m: matmul: Input operand 0 does not have enough dimensions (has 0, gufunc core with signature (n?,k),(k,m?)->(n?,m?) requires 1)"
     ]
    }
   ],
   "source": [
    "# the function itself isn't compatible with numpy matrix-vector multiplication\n",
    "x = np.random.rand(m)\n",
    "Afun @ x"
   ]
  },
  {
   "cell_type": "code",
   "execution_count": 26,
   "metadata": {},
   "outputs": [
    {
     "data": {
      "text/plain": [
       "array([5.05001422, 5.05001422, 5.05001422, 5.05001422, 5.05001422,\n",
       "       5.05001422, 5.05001422, 5.05001422, 5.05001422, 5.05001422])"
      ]
     },
     "execution_count": 26,
     "metadata": {},
     "output_type": "execute_result"
    }
   ],
   "source": [
    "# the linear operator is\n",
    "A @ x"
   ]
  },
  {
   "cell_type": "markdown",
   "metadata": {},
   "source": [
    "## Composition\n",
    "\n",
    "Because of linearity, sums and products of Linear operators can also have nice properties.  This is encoded in the `LinearOperator` class:"
   ]
  },
  {
   "cell_type": "code",
   "execution_count": 27,
   "metadata": {},
   "outputs": [],
   "source": [
    "B1 = A + A # acts as the matrix with 2 in every entry\n",
    "B2 = A @ A # acts that the matrix with m in every entry"
   ]
  },
  {
   "cell_type": "code",
   "execution_count": 28,
   "metadata": {},
   "outputs": [
    {
     "data": {
      "text/plain": [
       "array([8.00550961, 8.00550961, 8.00550961, 8.00550961, 8.00550961,\n",
       "       8.00550961, 8.00550961, 8.00550961, 8.00550961, 8.00550961])"
      ]
     },
     "execution_count": 28,
     "metadata": {},
     "output_type": "execute_result"
    }
   ],
   "source": [
    "B1 @ np.random.rand(m)"
   ]
  },
  {
   "cell_type": "code",
   "execution_count": 29,
   "metadata": {},
   "outputs": [
    {
     "data": {
      "text/plain": [
       "array([60.71496565, 60.71496565, 60.71496565, 60.71496565, 60.71496565,\n",
       "       60.71496565, 60.71496565, 60.71496565, 60.71496565, 60.71496565])"
      ]
     },
     "execution_count": 29,
     "metadata": {},
     "output_type": "execute_result"
    }
   ],
   "source": [
    "B2 @ np.random.rand(m)"
   ]
  },
  {
   "cell_type": "code",
   "execution_count": 30,
   "metadata": {},
   "outputs": [
    {
     "data": {
      "text/plain": [
       "(scipy.sparse.linalg.interface._SumLinearOperator,\n",
       " scipy.sparse.linalg.interface._ProductLinearOperator)"
      ]
     },
     "execution_count": 30,
     "metadata": {},
     "output_type": "execute_result"
    }
   ],
   "source": [
    "type(B1), type(B2)"
   ]
  },
  {
   "cell_type": "markdown",
   "metadata": {},
   "source": [
    "## Exercises\n",
    "\n",
    "1. Define a `LinearOperator` that \"centers\" a vector: `A: x -> x - mean(x)`. i.e. we subtract the mean of the vector from every entry of the vector."
   ]
  },
  {
   "cell_type": "code",
   "execution_count": 15,
   "metadata": {},
   "outputs": [],
   "source": [
    "## Your code here\n"
   ]
  },
  {
   "cell_type": "code",
   "execution_count": 35,
   "metadata": {},
   "outputs": [
    {
     "data": {
      "text/plain": [
       "0.0"
      ]
     },
     "execution_count": 35,
     "metadata": {},
     "output_type": "execute_result"
    }
   ],
   "source": [
    "Afun = lambda x : x - np.mean(x)\n",
    "m,n = 10,10\n",
    "A = LinearOperator(\n",
    "    shape = (m,n),\n",
    "    matvec=Afun,\n",
    "    dtype=np.float\n",
    ")\n",
    "\n",
    "x = np.random.randn(n)\n",
    "np.linalg.norm(Afun(x) - (x - np.mean(x)))\n",
    "np.linalg.norm(A @ x - (x - np.mean(x)))"
   ]
  },
  {
   "cell_type": "code",
   "execution_count": 45,
   "metadata": {},
   "outputs": [
    {
     "data": {
      "text/plain": [
       "5.087681048627601e-16"
      ]
     },
     "execution_count": 45,
     "metadata": {},
     "output_type": "execute_result"
    }
   ],
   "source": [
    "# check numerical linearity\n",
    "x, y = np.random.randn(n), np.random.randn(n)\n",
    "a, b = 1.5, 2.0\n",
    "np.linalg.norm(A @ (a*x + b*y) - (a*A@x + b*A@y))"
   ]
  },
  {
   "cell_type": "markdown",
   "metadata": {},
   "source": [
    "2. Define a `LinearOperator` that returns the differences in a vector.  i.e. `A` is a `n-1 x n` operator, where `(A @ x)[i]` is `x[i+1] - x[i]`.  You may want to look at `np.diff`."
   ]
  },
  {
   "cell_type": "code",
   "execution_count": 16,
   "metadata": {},
   "outputs": [],
   "source": [
    "## Your code here\n"
   ]
  },
  {
   "cell_type": "code",
   "execution_count": 46,
   "metadata": {
    "tags": [
     "hide-cell"
    ]
   },
   "outputs": [
    {
     "data": {
      "text/plain": [
       "1.2212453270876722e-15"
      ]
     },
     "execution_count": 46,
     "metadata": {},
     "output_type": "execute_result"
    }
   ],
   "source": [
    "# check numerical linearity\n",
    "x, y = np.random.randn(n), np.random.randn(n)\n",
    "a, b = 1.5, 2.0\n",
    "\n",
    "np.linalg.norm(np.diff(a *x + b * y) - (a*np.diff(x) + b*np.diff(y)))"
   ]
  },
  {
   "cell_type": "code",
   "execution_count": 56,
   "metadata": {
    "tags": [
     "hide-cell"
    ]
   },
   "outputs": [
    {
     "data": {
      "text/plain": [
       "0.0"
      ]
     },
     "execution_count": 56,
     "metadata": {},
     "output_type": "execute_result"
    }
   ],
   "source": [
    "Afun = lambda x : np.diff(x)\n",
    "\n",
    "A = LinearOperator(\n",
    "    shape = (n-1,n),\n",
    "    matvec = np.diff,\n",
    "    dtype=np.float\n",
    ")\n",
    "\n",
    "x = np.random.randn(n)\n",
    "np.linalg.norm(A @ x - np.diff(x))"
   ]
  },
  {
   "cell_type": "markdown",
   "metadata": {},
   "source": [
    "3. In both the above exercises, you could define these linear operators using either functions or a combination of dense/sparse matrices.  If you completed an exercise above using a function, write a second version which uses dense/sparse matrices.  If you completed an exercise above using dense/sparse matrices, write a second version that uses functions."
   ]
  },
  {
   "cell_type": "code",
   "execution_count": 17,
   "metadata": {},
   "outputs": [],
   "source": [
    "## Your code here\n"
   ]
  },
  {
   "cell_type": "code",
   "execution_count": null,
   "metadata": {},
   "outputs": [],
   "source": []
  }
 ],
 "metadata": {
  "celltoolbar": "Tags",
  "kernelspec": {
   "display_name": "Python 3 (ipykernel)",
   "language": "python",
   "name": "python3"
  },
  "language_info": {
   "codemirror_mode": {
    "name": "ipython",
    "version": 3
   },
   "file_extension": ".py",
   "mimetype": "text/x-python",
   "name": "python",
   "nbconvert_exporter": "python",
   "pygments_lexer": "ipython3",
   "version": "3.10.1"
  }
 },
 "nbformat": 4,
 "nbformat_minor": 4
}
