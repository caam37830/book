{
 "cells": [
  {
   "cell_type": "markdown",
   "metadata": {},
   "source": [
    "# Graphs\n",
    "\n",
    "In mathematics, a graph is a way of representing relational data.  A graph $G(V, E)$ consists of a **vertex set** $V$, and an **edge set** $E\\subseteq V\\times V$.\n",
    "\n",
    "Often vertices are referred to as **nodes**.\n",
    "\n",
    "In a **directed graph**, there can be an edge $(v_0, v_1)$ as well as an edge $(v_1, v_0)$.  This is good for representing asymmetric relations like $v_1$ is better than $v_0$ at some task.\n",
    "\n",
    "In an **undirected graph**, the edge $(v_0, v_1)$ is the same as the edge $(v_1, v_0)$.  This is good for representing relations like friendship.\n",
    "\n",
    "In a **multigraph**, there can be multiple edges between the same vertices.  Multigraphs can be directed or undirected.\n",
    "\n",
    "We'll primarily consider undirected graphs today.\n",
    "\n",
    "The **neighbors** of a vertex $v$ are all vertices that participate in an edge with $v$\n",
    "$$N(v) = \\{ w \\in V \\mid (v,w) \\in E\\}$$\n",
    "\n",
    "The **degree** of a vertex is the size of its neighborhood set.\n",
    "\n",
    "## Applications of Graphs\n",
    "\n",
    "Graphs come up in a variety of situations studied in scientific computing\n",
    "1. Studying social networks (e.g. Facebook)\n",
    "2. Studying food webs\n",
    "3. Control processes\n",
    "4. PDE meshes\n",
    "\n",
    "and more!"
   ]
  },
  {
   "cell_type": "markdown",
   "metadata": {},
   "source": [
    "## Representing Graphs\n",
    "\n",
    "There are a variety of ways we might represent graphs on a computer\n",
    "\n",
    "Here are some common representations:\n",
    "1. Edge list\n",
    "2. Adjacency list\n",
    "3. Ajacency matrix\n",
    "4. ...\n",
    "\n",
    "We'll typically treat the vertex set as $[0, 1, ..., N-1]$ where $N$ is the number of vertices in the graph"
   ]
  },
  {
   "cell_type": "markdown",
   "metadata": {},
   "source": [
    "### Edge Lists\n",
    "\n",
    "An edge list is exactly what you might think - a list of edges.\n",
    "\n",
    "For example:"
   ]
  },
  {
   "cell_type": "code",
   "execution_count": 1,
   "metadata": {},
   "outputs": [
    {
     "data": {
      "text/plain": [
       "[(0, 1), (1, 2), (2, 3)]"
      ]
     },
     "execution_count": 1,
     "metadata": {},
     "output_type": "execute_result"
    }
   ],
   "source": [
    "elist = [(0,1), (1,2), (2,3)]\n",
    "elist"
   ]
  },
  {
   "cell_type": "markdown",
   "metadata": {},
   "source": [
    "### Adjacency List\n",
    "\n",
    "An adjacency list is a list of lists - every vertex has a list of **neighbors**\n",
    "\n",
    "For our example above, we would have"
   ]
  },
  {
   "cell_type": "code",
   "execution_count": 2,
   "metadata": {},
   "outputs": [
    {
     "data": {
      "text/plain": [
       "[[1], [0, 2], [1, 3], [2]]"
      ]
     },
     "execution_count": 2,
     "metadata": {},
     "output_type": "execute_result"
    }
   ],
   "source": [
    "adjlist = [\n",
    "           [1],\n",
    "           [0,2],\n",
    "           [1,3],\n",
    "           [2]\n",
    "          ]\n",
    "adjlist"
   ]
  },
  {
   "cell_type": "markdown",
   "metadata": {},
   "source": [
    "### Adjacency Matrix\n",
    "\n",
    "An adjacency matrix $A$ is a $|V| \\times |V|$ matrix, where\n",
    "$$\n",
    "A[i,j] = \\begin{cases}\n",
    "1 & (i,j) \\in E\\\\\n",
    "0 & \\text{otherwise}\n",
    "\\end{cases}\n",
    "$$\n",
    "Continuing our example, we would have"
   ]
  },
  {
   "cell_type": "code",
   "execution_count": 3,
   "metadata": {},
   "outputs": [
    {
     "data": {
      "text/plain": [
       "array([[0., 1., 0., 0.],\n",
       "       [1., 0., 1., 0.],\n",
       "       [0., 1., 0., 1.],\n",
       "       [0., 0., 1., 0.]])"
      ]
     },
     "execution_count": 3,
     "metadata": {},
     "output_type": "execute_result"
    }
   ],
   "source": [
    "import numpy as np\n",
    "A = np.zeros((4,4))\n",
    "for e in elist:\n",
    "    A[e[0], e[1]] = 1\n",
    "    A[e[1], e[0]] = 1\n",
    "\n",
    "A"
   ]
  },
  {
   "cell_type": "markdown",
   "metadata": {},
   "source": [
    "the adjacency matrix of an undirected graph is always symmetric (why?)\n",
    "\n",
    "Often adjacency matrices are sparse, so it makes sense to use a sparse matrix format."
   ]
  },
  {
   "cell_type": "markdown",
   "metadata": {},
   "source": [
    "### Exercises\n",
    "\n",
    "Assume we are working with undirected graphs\n",
    "1. Write a function to return an adjacency list from an edge list\n",
    "2. Write a function to return an adjacency matrix from an adjacency list\n",
    "3. Write a function to return an edge list from an adjacency matrix"
   ]
  },
  {
   "cell_type": "code",
   "execution_count": null,
   "metadata": {},
   "outputs": [],
   "source": [
    "# Your code here\n"
   ]
  },
  {
   "cell_type": "markdown",
   "metadata": {},
   "source": [
    "## A Graph Class\n",
    "\n",
    "Usually, there is data associated with vertices and/or edges in a graph.\n",
    "\n",
    "Let's define a graph class that allows us to store data.\n",
    "\n",
    "We'll represent the graph as an edge list."
   ]
  },
  {
   "cell_type": "code",
   "execution_count": 4,
   "metadata": {},
   "outputs": [],
   "source": [
    "class Graph(object):\n",
    "    def __init__(self):\n",
    "        self.elist = []\n",
    "        self.edata = dict() # edge data\n",
    "        self.ndata = dict() # node data\n",
    "        \n",
    "    def add_node(self, i, **kwargs):\n",
    "        \"\"\"\n",
    "        add a node to the graph, with data indexed by keywords\n",
    "        \"\"\"\n",
    "        self.ndata[i] = dict(**kwargs)\n",
    "        \n",
    "    def add_edge(self, i, j, **kwargs):\n",
    "        \"\"\"\n",
    "        add an edge to the graph, with data indexed by keywords\n",
    "        \"\"\"\n",
    "        self.elist.append((i,j))\n",
    "        self.edata[(i,j)] = dict(**kwargs)\n",
    "        \n",
    "    def node_data(self, i):\n",
    "        if i in self.ndata.keys():\n",
    "            return self.ndata[i]\n",
    "        else:\n",
    "            raise ValueError(\"No such node!\")\n",
    "    \n",
    "    def edge_data(self, i, j):\n",
    "        if (i,j) in self.edata.keys():\n",
    "            return self.edata[(i,j)]\n",
    "        elif (j,i) in self.edata.keys():\n",
    "            return self.edata[(j,i)]\n",
    "        else:\n",
    "            raise ValueError(\"No such edge!\")\n",
    "        \n",
    "    def edge_list(self):\n",
    "        return self.elist\n",
    "    \n",
    "    def adjacency_list(self):\n",
    "        pass\n",
    "    \n",
    "    def adjacency_matrix(self):\n",
    "        pass\n",
    "        \n",
    "    "
   ]
  },
  {
   "cell_type": "code",
   "execution_count": 5,
   "metadata": {},
   "outputs": [],
   "source": [
    "G = Graph()\n",
    "G.add_node(0, name=\"dog\")\n",
    "G.add_node(1, name=\"cat\")\n",
    "G.add_node(2)\n",
    "G.add_edge(0,1, weight=0.5)"
   ]
  },
  {
   "cell_type": "code",
   "execution_count": 9,
   "metadata": {},
   "outputs": [
    {
     "name": "stdout",
     "output_type": "stream",
     "text": [
      "{}\n",
      "{'weight': 0.5}\n"
     ]
    }
   ],
   "source": [
    "print(G.node_data(2))\n",
    "print(G.edge_data(0,1))"
   ]
  },
  {
   "cell_type": "code",
   "execution_count": 14,
   "metadata": {},
   "outputs": [
    {
     "data": {
      "text/plain": [
       "[(0, 1)]"
      ]
     },
     "execution_count": 14,
     "metadata": {},
     "output_type": "execute_result"
    }
   ],
   "source": [
    "G.edge_list()"
   ]
  },
  {
   "cell_type": "markdown",
   "metadata": {},
   "source": [
    "### Exercise\n",
    "\n",
    "1. Implement the `adjacency_list` method\n",
    "2. Implement the `adjacency_matrix` method"
   ]
  },
  {
   "cell_type": "code",
   "execution_count": null,
   "metadata": {},
   "outputs": [],
   "source": []
  }
 ],
 "metadata": {
  "kernelspec": {
   "display_name": "Python 3 (ipykernel)",
   "language": "python",
   "name": "python3"
  },
  "language_info": {
   "codemirror_mode": {
    "name": "ipython",
    "version": 3
   },
   "file_extension": ".py",
   "mimetype": "text/x-python",
   "name": "python",
   "nbconvert_exporter": "python",
   "pygments_lexer": "ipython3",
   "version": "3.10.1"
  }
 },
 "nbformat": 4,
 "nbformat_minor": 2
}
