{
 "cells": [
  {
   "cell_type": "markdown",
   "metadata": {},
   "source": [
    "# Iterators and Generators\n",
    "\n",
    "So far, you have seen things like"
   ]
  },
  {
   "cell_type": "code",
   "execution_count": 1,
   "metadata": {},
   "outputs": [
    {
     "name": "stdout",
     "output_type": "stream",
     "text": [
      "1\n",
      "2\n",
      "3\n"
     ]
    }
   ],
   "source": [
    "a = [1,2,3]\n",
    "for x in a:\n",
    "    print(x)"
   ]
  },
  {
   "cell_type": "markdown",
   "metadata": {},
   "source": [
    "This looks very different from a C-style for loop where we loop over the variable index:\n",
    "```C++\n",
    "for (size_t i = 0; i < 3; i++) {\n",
    "    printf(\"%d\\n\", i);\n",
    "}\n",
    "```\n",
    "\n",
    "Or for instance, we can use something called a `range`"
   ]
  },
  {
   "cell_type": "code",
   "execution_count": 2,
   "metadata": {},
   "outputs": [
    {
     "name": "stdout",
     "output_type": "stream",
     "text": [
      "0\n",
      "1\n",
      "2\n"
     ]
    }
   ],
   "source": [
    "for i in range(3):\n",
    "    print(i)"
   ]
  },
  {
   "cell_type": "markdown",
   "metadata": {},
   "source": [
    "or other data types"
   ]
  },
  {
   "cell_type": "code",
   "execution_count": 3,
   "metadata": {},
   "outputs": [
    {
     "name": "stdout",
     "output_type": "stream",
     "text": [
      "hello  :  1\n",
      "goodbye  :  2\n"
     ]
    }
   ],
   "source": [
    "d = {\"hello\": 1, \"goodbye\": 2}\n",
    "for k,v in d.items():\n",
    "    print(k, ' : ', v)"
   ]
  },
  {
   "cell_type": "markdown",
   "metadata": {},
   "source": [
    "The key to using this sort of syntax is the concept of [iterator](https://wiki.python.org/moin/Iterator).  This is common in object-oriented programming (not just in Python), but you probably haven't seen iterators before if you've only used imperative languages.\n",
    "\n",
    "An object is **iterable** if it implements the `__iter__` method, which is expected to return an iterator object.\n",
    "An object is an **iterator** if it implements the `__next__` method, which either\n",
    "1. returns the next element of the iterable object\n",
    "2. raises the `StopIteration` exception if there are no more elements to iterate over"
   ]
  },
  {
   "cell_type": "markdown",
   "metadata": {},
   "source": [
    "## A Basic Iterator\n",
    "\n",
    "What if we want to replicate `range`?  "
   ]
  },
  {
   "cell_type": "code",
   "execution_count": 6,
   "metadata": {},
   "outputs": [
    {
     "data": {
      "text/plain": [
       "range"
      ]
     },
     "execution_count": 6,
     "metadata": {},
     "output_type": "execute_result"
    }
   ],
   "source": [
    "r = range(3)\n",
    "type(r)"
   ]
  },
  {
   "cell_type": "markdown",
   "metadata": {},
   "source": [
    "we can produce an iterator using the `iter` function"
   ]
  },
  {
   "cell_type": "code",
   "execution_count": 7,
   "metadata": {},
   "outputs": [
    {
     "data": {
      "text/plain": [
       "range_iterator"
      ]
     },
     "execution_count": 7,
     "metadata": {},
     "output_type": "execute_result"
    }
   ],
   "source": [
    "ri = iter(r)\n",
    "type(ri)"
   ]
  },
  {
   "cell_type": "markdown",
   "metadata": {},
   "source": [
    "we can explicitly run through the iterator using the `next` function"
   ]
  },
  {
   "cell_type": "code",
   "execution_count": 11,
   "metadata": {},
   "outputs": [
    {
     "ename": "StopIteration",
     "evalue": "",
     "output_type": "error",
     "traceback": [
      "\u001b[0;31m---------------------------------------------------------------------------\u001b[0m",
      "\u001b[0;31mStopIteration\u001b[0m                             Traceback (most recent call last)",
      "\u001b[0;32m<ipython-input-11-e29b1d0ccf05>\u001b[0m in \u001b[0;36m<module>\u001b[0;34m\u001b[0m\n\u001b[0;32m----> 1\u001b[0;31m \u001b[0mnext\u001b[0m\u001b[0;34m(\u001b[0m\u001b[0mri\u001b[0m\u001b[0;34m)\u001b[0m\u001b[0;34m\u001b[0m\u001b[0;34m\u001b[0m\u001b[0m\n\u001b[0m",
      "\u001b[0;31mStopIteration\u001b[0m: "
     ]
    }
   ],
   "source": [
    "next(ri)"
   ]
  },
  {
   "cell_type": "code",
   "execution_count": 13,
   "metadata": {},
   "outputs": [
    {
     "name": "stdout",
     "output_type": "stream",
     "text": [
      "1\n",
      "3\n"
     ]
    }
   ],
   "source": [
    "r = range(1,5,2)\n",
    "ri = iter(r)\n",
    "print(next(ri))\n",
    "print(next(ri))\n"
   ]
  },
  {
   "cell_type": "code",
   "execution_count": 14,
   "metadata": {},
   "outputs": [],
   "source": [
    "class my_range_iterator(object):\n",
    "    def __init__(self, start, stop, stride):\n",
    "        self.state = start\n",
    "        self.stop = stop\n",
    "        self.stride = stride\n",
    "        \n",
    "    def __next__(self):\n",
    "        if self.state >= self.stop:\n",
    "            raise StopIteration  # signals \"the end\"\n",
    "        ret = self.state # we'll return current state\n",
    "        self.state += self.stride # increment state\n",
    "        return ret\n",
    "        \n",
    "        \n",
    "# an iterable\n",
    "class my_range(object):\n",
    "    def __init__(self, start, stop, stride=1):\n",
    "        self.start = start\n",
    "        self.stop = stop\n",
    "        self.stride = stride\n",
    "    \n",
    "    def __iter__(self):\n",
    "        return my_range_iterator(self.start, self.stop, self.stride)"
   ]
  },
  {
   "cell_type": "code",
   "execution_count": 15,
   "metadata": {},
   "outputs": [
    {
     "data": {
      "text/plain": [
       "__main__.my_range"
      ]
     },
     "execution_count": 15,
     "metadata": {},
     "output_type": "execute_result"
    }
   ],
   "source": [
    "r = my_range(0,3)\n",
    "type(r)"
   ]
  },
  {
   "cell_type": "code",
   "execution_count": 16,
   "metadata": {},
   "outputs": [
    {
     "data": {
      "text/plain": [
       "__main__.my_range_iterator"
      ]
     },
     "execution_count": 16,
     "metadata": {},
     "output_type": "execute_result"
    }
   ],
   "source": [
    "ri = iter(r)\n",
    "type(ri)"
   ]
  },
  {
   "cell_type": "code",
   "execution_count": 20,
   "metadata": {},
   "outputs": [
    {
     "ename": "StopIteration",
     "evalue": "",
     "output_type": "error",
     "traceback": [
      "\u001b[0;31m---------------------------------------------------------------------------\u001b[0m",
      "\u001b[0;31mStopIteration\u001b[0m                             Traceback (most recent call last)",
      "\u001b[0;32m<ipython-input-20-e29b1d0ccf05>\u001b[0m in \u001b[0;36m<module>\u001b[0;34m\u001b[0m\n\u001b[0;32m----> 1\u001b[0;31m \u001b[0mnext\u001b[0m\u001b[0;34m(\u001b[0m\u001b[0mri\u001b[0m\u001b[0;34m)\u001b[0m\u001b[0;34m\u001b[0m\u001b[0;34m\u001b[0m\u001b[0m\n\u001b[0m",
      "\u001b[0;32m<ipython-input-14-f6ee4fb10d39>\u001b[0m in \u001b[0;36m__next__\u001b[0;34m(self)\u001b[0m\n\u001b[1;32m      7\u001b[0m     \u001b[0;32mdef\u001b[0m \u001b[0m__next__\u001b[0m\u001b[0;34m(\u001b[0m\u001b[0mself\u001b[0m\u001b[0;34m)\u001b[0m\u001b[0;34m:\u001b[0m\u001b[0;34m\u001b[0m\u001b[0;34m\u001b[0m\u001b[0m\n\u001b[1;32m      8\u001b[0m         \u001b[0;32mif\u001b[0m \u001b[0mself\u001b[0m\u001b[0;34m.\u001b[0m\u001b[0mstate\u001b[0m \u001b[0;34m>=\u001b[0m \u001b[0mself\u001b[0m\u001b[0;34m.\u001b[0m\u001b[0mstop\u001b[0m\u001b[0;34m:\u001b[0m\u001b[0;34m\u001b[0m\u001b[0;34m\u001b[0m\u001b[0m\n\u001b[0;32m----> 9\u001b[0;31m             \u001b[0;32mraise\u001b[0m \u001b[0mStopIteration\u001b[0m  \u001b[0;31m# signals \"the end\"\u001b[0m\u001b[0;34m\u001b[0m\u001b[0;34m\u001b[0m\u001b[0m\n\u001b[0m\u001b[1;32m     10\u001b[0m         \u001b[0mret\u001b[0m \u001b[0;34m=\u001b[0m \u001b[0mself\u001b[0m\u001b[0;34m.\u001b[0m\u001b[0mstate\u001b[0m \u001b[0;31m# we'll return current state\u001b[0m\u001b[0;34m\u001b[0m\u001b[0;34m\u001b[0m\u001b[0m\n\u001b[1;32m     11\u001b[0m         \u001b[0mself\u001b[0m\u001b[0;34m.\u001b[0m\u001b[0mstate\u001b[0m \u001b[0;34m+=\u001b[0m \u001b[0mself\u001b[0m\u001b[0;34m.\u001b[0m\u001b[0mstride\u001b[0m \u001b[0;31m# increment state\u001b[0m\u001b[0;34m\u001b[0m\u001b[0;34m\u001b[0m\u001b[0m\n",
      "\u001b[0;31mStopIteration\u001b[0m: "
     ]
    }
   ],
   "source": [
    "next(ri)"
   ]
  },
  {
   "cell_type": "code",
   "execution_count": 21,
   "metadata": {},
   "outputs": [
    {
     "name": "stdout",
     "output_type": "stream",
     "text": [
      "0\n",
      "1\n",
      "2\n"
     ]
    }
   ],
   "source": [
    "for i in my_range(0,3):\n",
    "    print(i)"
   ]
  },
  {
   "cell_type": "code",
   "execution_count": 22,
   "metadata": {},
   "outputs": [
    {
     "name": "stdout",
     "output_type": "stream",
     "text": [
      "0\n",
      "1\n",
      "2\n"
     ]
    }
   ],
   "source": [
    "for i in range(0,3):\n",
    "    print(i)"
   ]
  },
  {
   "cell_type": "markdown",
   "metadata": {},
   "source": [
    "You can also create classes that are both iterators and iterables"
   ]
  },
  {
   "cell_type": "code",
   "execution_count": 23,
   "metadata": {},
   "outputs": [],
   "source": [
    "# an iterable and iterator\n",
    "class my_range2(object):\n",
    "    def __init__(self, start, stop, stride=1):\n",
    "        self.start = start\n",
    "        self.stop = stop\n",
    "        self.stride = stride\n",
    "        self.state = start\n",
    "    \n",
    "    def __iter__(self):\n",
    "        return self\n",
    "    \n",
    "    def __next__(self):\n",
    "        if self.state >= self.stop:\n",
    "            raise StopIteration  # signals \"the end\"\n",
    "        ret = self.state # we'll return current state\n",
    "        self.state += self.stride # increment state\n",
    "        return ret"
   ]
  },
  {
   "cell_type": "markdown",
   "metadata": {},
   "source": [
    "## Using Iterators for Computation\n",
    "\n",
    "Let's now use iterators for something more interesting - computing the Fibonacci numbers."
   ]
  },
  {
   "cell_type": "code",
   "execution_count": 32,
   "metadata": {},
   "outputs": [],
   "source": [
    "class FibonacciIterator(object):\n",
    "    def __init__(self):\n",
    "        self.a = 0 # current number\n",
    "        self.b = 1 # next number\n",
    "        \n",
    "    def __iter__(self):\n",
    "        return self\n",
    "    \n",
    "    def __next__(self):\n",
    "        ret = self.a\n",
    "        self.a, self.b = self.b, self.a + self.b # advance the iteration\n",
    "        return ret"
   ]
  },
  {
   "cell_type": "code",
   "execution_count": 35,
   "metadata": {},
   "outputs": [
    {
     "name": "stdout",
     "output_type": "stream",
     "text": [
      "0\n",
      "1\n",
      "1\n",
      "2\n",
      "3\n",
      "5\n",
      "8\n",
      "13\n",
      "21\n",
      "34\n",
      "55\n",
      "89\n",
      "144\n",
      "233\n",
      "377\n",
      "610\n",
      "987\n"
     ]
    }
   ],
   "source": [
    "for i in FibonacciIterator():\n",
    "    if i > 1000:\n",
    "        break\n",
    "    print(i)"
   ]
  },
  {
   "cell_type": "markdown",
   "metadata": {},
   "source": [
    "Note that we never raise a `StopIteration` exception - the iterator will just keep going if we let it."
   ]
  },
  {
   "cell_type": "markdown",
   "metadata": {},
   "source": [
    "### Exercise\n",
    "\n",
    "Define `FibonacciIterator` so it will iterate over all Fibonacci numbers until they are greater than a parameter `n`."
   ]
  },
  {
   "cell_type": "code",
   "execution_count": null,
   "metadata": {},
   "outputs": [],
   "source": [
    "## Your code here\n"
   ]
  },
  {
   "cell_type": "code",
   "execution_count": 1,
   "metadata": {},
   "outputs": [
    {
     "name": "stdout",
     "output_type": "stream",
     "text": [
      "0\n",
      "1\n",
      "1\n",
      "2\n",
      "3\n",
      "5\n",
      "8\n",
      "13\n",
      "21\n",
      "34\n",
      "55\n",
      "89\n",
      "144\n",
      "233\n",
      "377\n",
      "610\n",
      "987\n"
     ]
    }
   ],
   "source": [
    "\n",
    "class FibonacciIterator_n(object):\n",
    "    def __init__(self, n):\n",
    "        self.a = 0 # current number\n",
    "        self.b = 1 # next number\n",
    "        self.n = n # the maximum parameter \n",
    "        \n",
    "    def __iter__(self):\n",
    "        return self\n",
    "    \n",
    "    def __next__(self):\n",
    "        if self.a >= self.n:\n",
    "            raise StopIteration # sigals that we went over the maximum parameter \n",
    "        ret = self.a\n",
    "        self.a, self.b = self.b, self.a + self.b # advance the iteration\n",
    "        return ret\n",
    "    \n",
    "for i in FibonacciIterator_n(1000):\n",
    "    print(i)"
   ]
  },
  {
   "cell_type": "markdown",
   "metadata": {},
   "source": [
    "## Generators\n",
    "\n",
    "Often, a more elegant way to define an iterator is using a [generator](https://wiki.python.org/moin/Generators)\n",
    "\n",
    "This is a special kind of iterator defined using a function instead of using classes that implement the `__iter__` and `__next__` methods.\n",
    "\n",
    "See [this post](https://nvie.com/posts/iterators-vs-generators/) for more discussion."
   ]
  },
  {
   "cell_type": "code",
   "execution_count": 36,
   "metadata": {},
   "outputs": [],
   "source": [
    "def my_range3(state, stop, stride=1):\n",
    "    while state < stop:\n",
    "        yield state\n",
    "        state += stride\n",
    "        "
   ]
  },
  {
   "cell_type": "markdown",
   "metadata": {},
   "source": [
    "Note that we use the `def` keyword instead of the `class` keyword for our declaration.  The `yield` keyword returns subsequent values of the iteration."
   ]
  },
  {
   "cell_type": "code",
   "execution_count": 37,
   "metadata": {},
   "outputs": [
    {
     "data": {
      "text/plain": [
       "generator"
      ]
     },
     "execution_count": 37,
     "metadata": {},
     "output_type": "execute_result"
    }
   ],
   "source": [
    "r = my_range3(0,3)\n",
    "type(r)"
   ]
  },
  {
   "cell_type": "code",
   "execution_count": 38,
   "metadata": {},
   "outputs": [
    {
     "data": {
      "text/plain": [
       "generator"
      ]
     },
     "execution_count": 38,
     "metadata": {},
     "output_type": "execute_result"
    }
   ],
   "source": [
    "ri = iter(r)\n",
    "type(ri)"
   ]
  },
  {
   "cell_type": "code",
   "execution_count": 42,
   "metadata": {},
   "outputs": [
    {
     "ename": "StopIteration",
     "evalue": "",
     "output_type": "error",
     "traceback": [
      "\u001b[0;31m---------------------------------------------------------------------------\u001b[0m",
      "\u001b[0;31mStopIteration\u001b[0m                             Traceback (most recent call last)",
      "\u001b[0;32m<ipython-input-42-e29b1d0ccf05>\u001b[0m in \u001b[0;36m<module>\u001b[0;34m\u001b[0m\n\u001b[0;32m----> 1\u001b[0;31m \u001b[0mnext\u001b[0m\u001b[0;34m(\u001b[0m\u001b[0mri\u001b[0m\u001b[0;34m)\u001b[0m\u001b[0;34m\u001b[0m\u001b[0;34m\u001b[0m\u001b[0m\n\u001b[0m",
      "\u001b[0;31mStopIteration\u001b[0m: "
     ]
    }
   ],
   "source": [
    "next(ri)"
   ]
  },
  {
   "cell_type": "code",
   "execution_count": 43,
   "metadata": {},
   "outputs": [
    {
     "name": "stdout",
     "output_type": "stream",
     "text": [
      "0\n",
      "1\n",
      "2\n"
     ]
    }
   ],
   "source": [
    "for i in my_range3(0,3):\n",
    "    print(i)"
   ]
  },
  {
   "cell_type": "markdown",
   "metadata": {},
   "source": [
    "Our Fibonacci example re-written using a generator:"
   ]
  },
  {
   "cell_type": "code",
   "execution_count": 44,
   "metadata": {},
   "outputs": [],
   "source": [
    "def FibonacciGenerator():\n",
    "    a = 0\n",
    "    b = 1\n",
    "    while True:\n",
    "        yield a\n",
    "        a, b = b, a + b"
   ]
  },
  {
   "cell_type": "code",
   "execution_count": 45,
   "metadata": {},
   "outputs": [
    {
     "name": "stdout",
     "output_type": "stream",
     "text": [
      "0\n",
      "1\n",
      "1\n",
      "2\n",
      "3\n",
      "5\n",
      "8\n",
      "13\n",
      "21\n",
      "34\n",
      "55\n",
      "89\n",
      "144\n",
      "233\n",
      "377\n",
      "610\n",
      "987\n"
     ]
    }
   ],
   "source": [
    "for i in FibonacciGenerator():\n",
    "    if i > 1000:\n",
    "        break\n",
    "    print(i)\n"
   ]
  },
  {
   "cell_type": "markdown",
   "metadata": {},
   "source": [
    "### Exercise\n",
    "\n",
    "Define `FibonacciGenerator` so it will iterate over all Fibonacci numbers until they are greater than a parameter `n`."
   ]
  },
  {
   "cell_type": "code",
   "execution_count": null,
   "metadata": {},
   "outputs": [],
   "source": [
    "## Your code here\n"
   ]
  },
  {
   "cell_type": "code",
   "execution_count": 47,
   "metadata": {},
   "outputs": [
    {
     "name": "stdout",
     "output_type": "stream",
     "text": [
      "0\n",
      "1\n",
      "1\n",
      "2\n",
      "3\n",
      "5\n",
      "8\n",
      "13\n",
      "21\n",
      "34\n",
      "55\n",
      "89\n",
      "144\n",
      "233\n",
      "377\n",
      "610\n",
      "987\n"
     ]
    }
   ],
   "source": [
    "def FibonacciGenerator(n):\n",
    "    a = 0\n",
    "    b = 1\n",
    "    while a < n:\n",
    "        yield a\n",
    "        a, b = b, a + b\n",
    "        \n",
    "for i in FibonacciGenerator(1000):\n",
    "    print(i)"
   ]
  },
  {
   "cell_type": "markdown",
   "metadata": {},
   "source": [
    "## Iteration tools\n",
    "\n",
    "Some useful tools for iterators that come in handy are:\n",
    "\n",
    "`zip` - iterates over multiple iterators simulataneously"
   ]
  },
  {
   "cell_type": "code",
   "execution_count": 48,
   "metadata": {},
   "outputs": [
    {
     "name": "stdout",
     "output_type": "stream",
     "text": [
      "0 a\n",
      "1 b\n",
      "2 c\n"
     ]
    }
   ],
   "source": [
    "for i, a in zip([0,1,2], ['a', 'b', 'c']):\n",
    "    print(i,a)"
   ]
  },
  {
   "cell_type": "markdown",
   "metadata": {},
   "source": [
    "`reversed` - iterates in reverse order"
   ]
  },
  {
   "cell_type": "code",
   "execution_count": 49,
   "metadata": {},
   "outputs": [
    {
     "name": "stdout",
     "output_type": "stream",
     "text": [
      "2\n",
      "1\n",
      "0\n"
     ]
    }
   ],
   "source": [
    "for i in reversed(range(3)):\n",
    "    print(i)"
   ]
  },
  {
   "cell_type": "markdown",
   "metadata": {},
   "source": [
    "`enumerate` - returns the iteration step count as well as the iterator value"
   ]
  },
  {
   "cell_type": "code",
   "execution_count": 50,
   "metadata": {},
   "outputs": [
    {
     "name": "stdout",
     "output_type": "stream",
     "text": [
      "0 a\n",
      "1 b\n",
      "2 c\n"
     ]
    }
   ],
   "source": [
    "for i, a in enumerate('abc'):\n",
    "    print(i, a)"
   ]
  },
  {
   "cell_type": "markdown",
   "metadata": {},
   "source": [
    "### Exercise\n",
    "\n",
    "Implement your own versions of `zip` and `enumerate` using generators"
   ]
  },
  {
   "cell_type": "code",
   "execution_count": null,
   "metadata": {},
   "outputs": [],
   "source": [
    "## Your code here\n"
   ]
  },
  {
   "cell_type": "code",
   "execution_count": 72,
   "metadata": {
    "tags": [
     "hide-cell"
    ]
   },
   "outputs": [
    {
     "name": "stdout",
     "output_type": "stream",
     "text": [
      "0 a\n",
      "1 b\n",
      "2 c\n"
     ]
    }
   ],
   "source": [
    "def my_zip(a, b):\n",
    "    ai = iter(a)\n",
    "    bi = iter(b)\n",
    "    while True:\n",
    "        try:\n",
    "            yield next(ai), next(bi)\n",
    "        except:\n",
    "            return\n",
    "        \n",
    "for i, a in my_zip(range(3), 'abc'):\n",
    "    print(i,a)"
   ]
  },
  {
   "cell_type": "code",
   "execution_count": 1,
   "metadata": {
    "tags": [
     "hide-cell"
    ]
   },
   "outputs": [
    {
     "name": "stdout",
     "output_type": "stream",
     "text": [
      "0 a\n",
      "1 b\n",
      "2 c\n",
      "3 d\n"
     ]
    }
   ],
   "source": [
    "def my_enumerate(a):\n",
    "    ct = 0\n",
    "    for x in a:\n",
    "        yield ct, x\n",
    "        ct = ct + 1\n",
    "        \n",
    "for i, a in my_enumerate('abcd'):\n",
    "    print(i, a)"
   ]
  },
  {
   "cell_type": "markdown",
   "metadata": {},
   "source": [
    "## The Itertools Package\n",
    "\n",
    "A useful package for dealing with iterators is the [itertools package](https://docs.python.org/3.8/library/itertools.html).  Here are a few examples - click on the link to see what else the package provides.\n",
    "\n",
    "`product` gives the equivalent of a nested for-loop"
   ]
  },
  {
   "cell_type": "code",
   "execution_count": 58,
   "metadata": {},
   "outputs": [
    {
     "name": "stdout",
     "output_type": "stream",
     "text": [
      "0 0\n",
      "0 1\n",
      "0 2\n",
      "1 0\n",
      "1 1\n",
      "1 2\n"
     ]
    }
   ],
   "source": [
    "from itertools import product\n",
    "\n",
    "for i, j in product(range(2), range(3)):\n",
    "    print(i, j)"
   ]
  },
  {
   "cell_type": "code",
   "execution_count": 59,
   "metadata": {},
   "outputs": [
    {
     "name": "stdout",
     "output_type": "stream",
     "text": [
      "0 0\n",
      "0 1\n",
      "0 2\n",
      "1 0\n",
      "1 1\n",
      "1 2\n"
     ]
    }
   ],
   "source": [
    "# equivalent to:\n",
    "for i in range(2):\n",
    "    for j in range(3):\n",
    "        print(i,j)"
   ]
  },
  {
   "cell_type": "markdown",
   "metadata": {},
   "source": [
    "`repeat` just repeats a value"
   ]
  },
  {
   "cell_type": "code",
   "execution_count": 4,
   "metadata": {},
   "outputs": [
    {
     "name": "stdout",
     "output_type": "stream",
     "text": [
      "10\n",
      "10\n",
      "10\n",
      "10\n",
      "10\n"
     ]
    }
   ],
   "source": [
    "from itertools import repeat\n",
    "\n",
    "for i in repeat(10, 5):\n",
    "    print(i)"
   ]
  },
  {
   "cell_type": "markdown",
   "metadata": {},
   "source": [
    "`permutations`"
   ]
  },
  {
   "cell_type": "code",
   "execution_count": 64,
   "metadata": {},
   "outputs": [
    {
     "name": "stdout",
     "output_type": "stream",
     "text": [
      "(0, 1, 2)\n",
      "(0, 2, 1)\n",
      "(1, 0, 2)\n",
      "(1, 2, 0)\n",
      "(2, 0, 1)\n",
      "(2, 1, 0)\n"
     ]
    }
   ],
   "source": [
    "from itertools import permutations\n",
    "\n",
    "for p in permutations(range(3)):\n",
    "    print(p)"
   ]
  },
  {
   "cell_type": "markdown",
   "metadata": {},
   "source": [
    "### Exercise\n",
    "\n",
    "Implement your own version of `product` and `repeat` using generators."
   ]
  },
  {
   "cell_type": "code",
   "execution_count": null,
   "metadata": {},
   "outputs": [],
   "source": [
    "## Your code here\n"
   ]
  },
  {
   "cell_type": "code",
   "execution_count": 2,
   "metadata": {
    "tags": [
     "hide-cell"
    ]
   },
   "outputs": [
    {
     "name": "stdout",
     "output_type": "stream",
     "text": [
      "0 0\n",
      "0 1\n",
      "0 2\n",
      "1 0\n",
      "1 1\n",
      "1 2\n"
     ]
    }
   ],
   "source": [
    "def my_product(a, b):\n",
    "    for x in a:\n",
    "        for y in b:\n",
    "            yield x, y\n",
    "            \n",
    "for x, y in my_product(range(2), range(3)):\n",
    "    print(x,y)"
   ]
  },
  {
   "cell_type": "code",
   "execution_count": 8,
   "metadata": {
    "tags": [
     "hide-cell"
    ]
   },
   "outputs": [
    {
     "name": "stdout",
     "output_type": "stream",
     "text": [
      "10\n",
      "10\n",
      "10\n",
      "10\n",
      "10\n"
     ]
    }
   ],
   "source": [
    "def my_repeat(n, ct):\n",
    "    for i in range(ct):\n",
    "        yield n\n",
    "        \n",
    "for x in my_repeat(10, 5):\n",
    "    print(x)"
   ]
  },
  {
   "cell_type": "markdown",
   "metadata": {},
   "source": [
    "## Iterators for Scientific Computing\n",
    "\n",
    "One way you might use an iterator in scientific computing is when implementing an iterative algorithm.\n",
    "\n",
    "Here is an example of the power method, which finds the largest eigenvalue-eigenvector pair of a matrix."
   ]
  },
  {
   "cell_type": "code",
   "execution_count": 9,
   "metadata": {},
   "outputs": [],
   "source": [
    "import numpy as np\n",
    "\n",
    "def PowerMethodGenerator(A, x):\n",
    "    \n",
    "    def RayleighQuotient(A, x):\n",
    "        \"\"\"\n",
    "        x^T A x / x^T x\n",
    "        \"\"\"\n",
    "        return np.dot(x, A @ x) / np.dot(x,x)\n",
    "    \n",
    "    x = x / np.linalg.norm(x)\n",
    "    rq_prev = np.inf\n",
    "    rq = RayleighQuotient(A, x)\n",
    "    \n",
    "    while True:\n",
    "        # yield state: RayleighQuotient, x, and difference from previous iteration\n",
    "        yield rq, x, np.abs(rq - rq_prev)\n",
    "        \n",
    "        # compute next iteration\n",
    "        x = A @ x\n",
    "        x = x / np.linalg.norm(x)\n",
    "        rq_prev = rq\n",
    "        rq = RayleighQuotient(A, x)\n",
    "    "
   ]
  },
  {
   "cell_type": "code",
   "execution_count": 18,
   "metadata": {},
   "outputs": [
    {
     "name": "stdout",
     "output_type": "stream",
     "text": [
      "89.81253501091724 inf\n",
      "242.85910417948966 153.04656916857243\n",
      "444.85274716457826 201.9936429850886\n",
      "574.2764337134453 129.423686548867\n",
      "605.3333719186537 31.05693820520844\n",
      "611.5407739473036 6.207402028649881\n",
      "612.9106617975037 1.3698878502001435\n",
      "613.2485808429876 0.3379190454838863\n",
      "613.3392058160957 0.09062497310810613\n",
      "613.3650279556526 0.02582213955690804\n",
      "613.3727234642167 0.0076955085640975085\n",
      "613.3750960037759 0.002372539559132747\n",
      "613.375846586167 0.0007505823911060361\n",
      "613.3760887640708 0.00024217790382863313\n",
      "613.376168092833 7.932876224003849e-05\n"
     ]
    }
   ],
   "source": [
    "# here's a version that uses the generator in a while-loop\n",
    "\n",
    "n = 100\n",
    "A = np.random.randn(n, n)\n",
    "A = A @ A.T + 5 # constant increases eigenvalue in constant vector direction\n",
    "x0 = np.random.randn(n)\n",
    "\n",
    "solver = PowerMethodGenerator(A, x0)\n",
    "tol = 1e-4\n",
    "\n",
    "while True:\n",
    "    rq, x, eps = next(solver)\n",
    "    print(rq, eps)\n",
    "    if eps < tol:\n",
    "        break"
   ]
  },
  {
   "cell_type": "markdown",
   "metadata": {},
   "source": [
    "If we decide that we're not satisfied with convergence yet, we can resume where we left off"
   ]
  },
  {
   "cell_type": "code",
   "execution_count": 19,
   "metadata": {},
   "outputs": [
    {
     "name": "stdout",
     "output_type": "stream",
     "text": [
      "613.3761943849217 2.6292088705304195e-05\n",
      "613.3762031806232 8.795701432973146e-06\n",
      "613.3762061456915 2.965068347293709e-06\n",
      "613.3762071517388 1.006047227747331e-06\n",
      "613.3762074950506 3.4331185361224925e-07\n"
     ]
    }
   ],
   "source": [
    "tol = 1e-6\n",
    "\n",
    "while True:\n",
    "    rq, x, eps = next(solver)\n",
    "    print(rq, eps)\n",
    "    if eps < tol:\n",
    "        break\n",
    "\n"
   ]
  },
  {
   "cell_type": "markdown",
   "metadata": {},
   "source": [
    "You can do the same thing with for-loops"
   ]
  },
  {
   "cell_type": "code",
   "execution_count": 17,
   "metadata": {},
   "outputs": [
    {
     "name": "stdout",
     "output_type": "stream",
     "text": [
      "98.54240658228312 inf\n",
      "263.89481933418114 165.35241275189802\n",
      "323.65196672338845 59.75714738920732\n",
      "390.0128085671451 66.36084184375665\n",
      "484.9275155474049 94.91470698025978\n",
      "563.0011106312606 78.07359508385576\n",
      "599.1416496541569 36.14053902289629\n",
      "611.5563409103167 12.414691256159813\n",
      "615.457347021376 3.901006111059246\n",
      "616.6819177841095 1.2245707627334923\n",
      "617.078052353799 0.3961345696894796\n",
      "617.2115459496376 0.13349359583867226\n",
      "617.2585339675145 0.04698801787685625\n",
      "617.275774701485 0.017240733970538713\n",
      "617.2823363892841 0.006561687799035099\n",
      "617.2849102204586 0.0025738311745726605\n",
      "617.2859439103643 0.0010336899056255788\n",
      "617.2863664706344 0.0004225602701808384\n",
      "617.2865414495121 0.00017497887768058717\n",
      "617.2866145761685 7.312665638892213e-05\n",
      "\n",
      "resuming iteration after decreasing tolerance\n",
      "\n",
      "617.2866453354011 3.075923257256363e-05\n",
      "617.2866583321916 1.2996790474062436e-05\n",
      "617.286663841021 5.508829417522065e-06\n",
      "617.2866661810857 2.34006472510373e-06\n",
      "617.2866671766113 9.95525624603033e-07\n"
     ]
    }
   ],
   "source": [
    "# here's a version that uses the generator in a for-loop\n",
    "\n",
    "n = 100\n",
    "A = np.random.randn(n, n)\n",
    "A = (A @ A.T) + 5 # constant increases eigenvalue in constant vector direction\n",
    "x0 = np.random.randn(n)\n",
    "\n",
    "solver = PowerMethodGenerator(A, x0)\n",
    "tol = 1e-4\n",
    "\n",
    "for rq, x, eps in solver:\n",
    "    print(rq, eps)\n",
    "    if eps < tol:\n",
    "        break\n",
    "\n",
    "tol = 1e-6\n",
    "print('\\nresuming iteration after decreasing tolerance\\n')\n",
    "for rq, x, eps in solver:\n",
    "    print(rq, eps)\n",
    "    if eps < tol:\n",
    "        break"
   ]
  },
  {
   "cell_type": "code",
   "execution_count": null,
   "metadata": {},
   "outputs": [],
   "source": []
  }
 ],
 "metadata": {
  "celltoolbar": "Tags",
  "kernelspec": {
   "display_name": "Python 3 (ipykernel)",
   "language": "python",
   "name": "python3"
  },
  "language_info": {
   "codemirror_mode": {
    "name": "ipython",
    "version": 3
   },
   "file_extension": ".py",
   "mimetype": "text/x-python",
   "name": "python",
   "nbconvert_exporter": "python",
   "pygments_lexer": "ipython3",
   "version": "3.10.1"
  }
 },
 "nbformat": 4,
 "nbformat_minor": 2
}
