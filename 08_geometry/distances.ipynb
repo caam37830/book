{
 "cells": [
  {
   "cell_type": "markdown",
   "metadata": {},
   "source": [
    "# Distances\n",
    "\n",
    "A common task when dealing with data is computing the distance between two points.\n",
    "\n",
    "We can use [`scipy.spatial.distance`](https://docs.scipy.org/doc/scipy/reference/spatial.distance.html) to compute a variety of distances."
   ]
  },
  {
   "cell_type": "code",
   "execution_count": 1,
   "metadata": {},
   "outputs": [
    {
     "name": "stderr",
     "output_type": "stream",
     "text": [
      "<frozen importlib._bootstrap>:241: RuntimeWarning: scipy._lib.messagestream.MessageStream size changed, may indicate binary incompatibility. Expected 56 from C header, got 64 from PyObject\n"
     ]
    }
   ],
   "source": [
    "import numpy as np\n",
    "import scipy.linalg as la\n",
    "import matplotlib.pyplot as plt\n",
    "import scipy.spatial.distance as distance"
   ]
  },
  {
   "cell_type": "markdown",
   "metadata": {},
   "source": [
    "A data set is a collection of observations, each of which may have several features.  We'll consider the situation where the data set is a matrix `X`, where each row `X[i]` is an observation.  We'll use `n` to denote the number of observations and `p` to denote the number of features, so `X` is a $n \\times p$ matrix.\n",
    "\n",
    "For example, we might sample from a circle (with some gaussian noise)"
   ]
  },
  {
   "cell_type": "code",
   "execution_count": 2,
   "metadata": {},
   "outputs": [
    {
     "data": {
      "image/png": "[encoded data removed]",
      "text/plain": [
       "<Figure size 432x288 with 1 Axes>"
      ]
     },
     "metadata": {
      "needs_background": "light"
     },
     "output_type": "display_data"
    }
   ],
   "source": [
    "def sample_circle(n, r=1, sigma=0.1):\n",
    "    \"\"\"\n",
    "    sample n points from a circle of radius r\n",
    "    add Gaussian noise with variance sigma^2\n",
    "    \"\"\"\n",
    "    X = np.random.randn(n,2)\n",
    "    X = r * X / np.linalg.norm(X,axis=1).reshape(-1,1)\n",
    "    return X + sigma * np.random.randn(n,2)\n",
    "\n",
    "X = sample_circle(100)\n",
    "plt.scatter(X[:,0], X[:,1])\n",
    "plt.show()"
   ]
  },
  {
   "cell_type": "markdown",
   "metadata": {},
   "source": [
    "We might also call a data set a \"point cloud\", or a collection of points in some space."
   ]
  },
  {
   "cell_type": "markdown",
   "metadata": {},
   "source": [
    "## Similarity, Dissimilarity, and Metric\n",
    "\n",
    "A **similarity** between two points $x, y\\in X$ is a function $s: X \\times X \\to \\mathbb{R}$, where $s$ is larger if $x,y$ are more similar.\n",
    "\n",
    "**Cosine similarity** is an an example of similarity for points in a real vector space.  We can define it as\n",
    "\\begin{equation}\n",
    "c(x,y) = \\frac{x^T y}{\\|x\\|_2 \\|y\\|_2}\n",
    "\\end{equation}\n",
    "\n",
    "Note $c(x,x) = 1$, and if $x,y$ are orthogonal, then $c(x,y) = 0$.\n",
    "\n",
    "A **dissimilarity** between two points $x,y \\in X$ is a function $d: X \\times X \\to \\mathbb{R}_+$, where $d$ is smaller if $x,y$ are more similar.  Sometimes, disimilarity functions will be called **distances**.\n",
    "\n",
    "**Cosine distance** is an example of a dissimilarity for points in a real vector space.  It is defined as\n",
    "\\begin{equation}\n",
    "d(x,y) = 1 - c(x,y)\n",
    "\\end{equation}\n",
    "Note $d(x,x) = 0$, and $d(x,y) = 1$ if $x,y$ are orthogonal.\n",
    "\n",
    "A **metric** is a disimilarity $d$ that satisfies the metric axioms\n",
    "1. $d(x,y) = 0$ iff $x=y$ (identity)\n",
    "2. $d(x,y) = d(y,x)$ (symmetry)\n",
    "3. $d(x,y) \\le d(x,z) + d(z,y)$ (triangle inequality)\n",
    "\n",
    "You are probably most familiar with the Euclidean metric\n",
    "\\begin{equation}\n",
    "d(x,y) = \\|x - y\\|_2\n",
    "\\end{equation}"
   ]
  },
  {
   "cell_type": "markdown",
   "metadata": {},
   "source": [
    "### Exercise\n",
    "\n",
    "Write functions for the cosine similarity, cosine distance, and euclidean distance between two numpy arrays treated as vectors."
   ]
  },
  {
   "cell_type": "code",
   "execution_count": null,
   "metadata": {},
   "outputs": [],
   "source": [
    "## Your code here\n"
   ]
  },
  {
   "cell_type": "code",
   "execution_count": 5,
   "metadata": {},
   "outputs": [
    {
     "name": "stdout",
     "output_type": "stream",
     "text": [
      "1.0 0.0 0.0\n",
      "-1.0 2.0 7.483314773547883\n",
      "0.8571428571428571 0.1428571428571429 2.0\n"
     ]
    }
   ],
   "source": [
    "import numpy as np\n",
    "\n",
    "cos_sim = lambda x, y : np.dot(x,y) / np.sqrt(np.dot(x,x) * np.dot(y,y))\n",
    "cos_dis = lambda x, y : 1 - cos_sim(x,y)\n",
    "euc_dis = lambda x, y : np.linalg.norm(x - y, 2)\n",
    "\n",
    "x = np.array([1,2,3])\n",
    "y = np.array([-1,2,3])\n",
    "print(cos_sim(x,x), cos_dis(x,x), euc_dis(x,x))\n",
    "print(cos_sim(x,-x), cos_dis(x,-x), euc_dis(x,-x))\n",
    "print(cos_sim(x,y), cos_dis(x,y), euc_dis(x,y))"
   ]
  },
  {
   "cell_type": "code",
   "execution_count": 7,
   "metadata": {},
   "outputs": [
    {
     "data": {
      "text/plain": [
       "0.664933173554027"
      ]
     },
     "execution_count": 7,
     "metadata": {},
     "output_type": "execute_result"
    }
   ],
   "source": [
    "X = np.random.randn(100, 3)\n",
    "X[0].T @ X[0]"
   ]
  },
  {
   "cell_type": "code",
   "execution_count": 10,
   "metadata": {},
   "outputs": [
    {
     "data": {
      "text/plain": [
       "array([[ 6.64933174e-01, -5.75011156e-01,  3.19744562e-01, ...,\n",
       "        -2.20748831e+00,  1.48799915e-01,  1.18305342e-02],\n",
       "       [-5.75011156e-01,  8.42409528e-01, -8.05657330e-01, ...,\n",
       "         2.47039644e+00, -3.90382071e-01, -6.00944421e-03],\n",
       "       [ 3.19744562e-01, -8.05657330e-01,  1.39888675e+00, ...,\n",
       "        -2.84591054e+00, -2.56855264e-01, -4.56346386e-01],\n",
       "       ...,\n",
       "       [-2.20748831e+00,  2.47039644e+00, -2.84591054e+00, ...,\n",
       "         1.02080973e+01,  6.33504889e-01,  9.37379555e-01],\n",
       "       [ 1.48799915e-01, -3.90382071e-01, -2.56855264e-01, ...,\n",
       "         6.33504889e-01,  1.45859930e+00,  7.65487878e-01],\n",
       "       [ 1.18305342e-02, -6.00944421e-03, -4.56346386e-01, ...,\n",
       "         9.37379555e-01,  7.65487878e-01,  4.78566894e-01]])"
      ]
     },
     "execution_count": 10,
     "metadata": {},
     "output_type": "execute_result"
    }
   ],
   "source": [
    "X @ X.T"
   ]
  },
  {
   "cell_type": "code",
   "execution_count": null,
   "metadata": {},
   "outputs": [],
   "source": [
    "x = np.random.randn(1,3)\n",
    "y = np.random.randn(1,3)"
   ]
  },
  {
   "cell_type": "code",
   "execution_count": null,
   "metadata": {},
   "outputs": [],
   "source": []
  },
  {
   "cell_type": "markdown",
   "metadata": {},
   "source": [
    "# Solution:"
   ]
  },
  {
   "cell_type": "code",
   "execution_count": null,
   "metadata": {},
   "outputs": [],
   "source": [
    "# The function for the cosine similarity:\n",
    "def cosimi(x,y):\n",
    "    num = x.T @ y\n",
    "    denum = la.norm(x) * la.norm(y)\n",
    "    return num/denum\n",
    "\n",
    "# The functions for the cosine distance:\n",
    "def cosdis(x,y):\n",
    "    num = x.T @ y\n",
    "    denum = la.norm(x) * la.norm(y)\n",
    "    cosimi = num/denum\n",
    "    return 1-cosimi\n",
    "\n",
    "# The function for the euclidean distance:\n",
    "def euclidis(x,y):\n",
    "    return la.norm(x-y)"
   ]
  },
  {
   "cell_type": "markdown",
   "metadata": {},
   "source": [
    "### Computing Distances\n",
    "\n",
    "SciPy provides a variety of functionality for computing distances in [`scipy.spatial.distance`](https://docs.scipy.org/doc/scipy/reference/spatial.distance.html)."
   ]
  },
  {
   "cell_type": "code",
   "execution_count": 11,
   "metadata": {},
   "outputs": [
    {
     "data": {
      "text/plain": [
       "1.4142135623730951"
      ]
     },
     "execution_count": 11,
     "metadata": {},
     "output_type": "execute_result"
    }
   ],
   "source": [
    "x = [1.0, 0.0]\n",
    "y = [0.0, 1.0]\n",
    "\n",
    "distance.euclidean(x, y) # sqrt(2)"
   ]
  },
  {
   "cell_type": "code",
   "execution_count": 12,
   "metadata": {},
   "outputs": [
    {
     "data": {
      "text/plain": [
       "1.0"
      ]
     },
     "execution_count": 12,
     "metadata": {},
     "output_type": "execute_result"
    }
   ],
   "source": [
    "distance.cosine(x, y)"
   ]
  },
  {
   "cell_type": "markdown",
   "metadata": {},
   "source": [
    "the $L_1$ / Manhattan / City block distance\n",
    "\\begin{equation}\n",
    "d(x,y) = \\|x - y\\|_1 = \\sum_i |x_i - y_i|\n",
    "\\end{equation}"
   ]
  },
  {
   "cell_type": "code",
   "execution_count": 13,
   "metadata": {},
   "outputs": [
    {
     "data": {
      "text/plain": [
       "2.0"
      ]
     },
     "execution_count": 13,
     "metadata": {},
     "output_type": "execute_result"
    }
   ],
   "source": [
    "distance.cityblock(x, y)"
   ]
  },
  {
   "cell_type": "markdown",
   "metadata": {},
   "source": [
    "The $L_\\infty$ / Chebyshev distance\n",
    "\\begin{equation}\n",
    "d(x,y) = \\|x - y\\|_\\infty = \\max_i |x_i - y_i|\n",
    "\\end{equation}"
   ]
  },
  {
   "cell_type": "code",
   "execution_count": 14,
   "metadata": {},
   "outputs": [
    {
     "data": {
      "text/plain": [
       "1.0"
      ]
     },
     "execution_count": 14,
     "metadata": {},
     "output_type": "execute_result"
    }
   ],
   "source": [
    "distance.chebyshev(x, y)"
   ]
  },
  {
   "cell_type": "markdown",
   "metadata": {},
   "source": [
    "More generally, the Minkowski distance\n",
    "\\begin{equation}\n",
    "d(x,y) = \\|x - y\\|_p = \\big( \\sum_i (x_i - y_i)^p \\big)^{1/p}\n",
    "\\end{equation}"
   ]
  },
  {
   "cell_type": "code",
   "execution_count": 15,
   "metadata": {},
   "outputs": [
    {
     "data": {
      "text/plain": [
       "1.2599210498948732"
      ]
     },
     "execution_count": 15,
     "metadata": {},
     "output_type": "execute_result"
    }
   ],
   "source": [
    "distance.minkowski(x, y, 3)"
   ]
  },
  {
   "cell_type": "code",
   "execution_count": 16,
   "metadata": {},
   "outputs": [
    {
     "data": {
      "text/plain": [
       "1.2599210498948734"
      ]
     },
     "execution_count": 16,
     "metadata": {},
     "output_type": "execute_result"
    }
   ],
   "source": [
    "np.cbrt(2) # cube root of 2"
   ]
  },
  {
   "cell_type": "markdown",
   "metadata": {},
   "source": [
    "The [Mahalanobis distance](https://docs.scipy.org/doc/scipy/reference/generated/scipy.spatial.distance.mahalanobis.html#scipy.spatial.distance.mahalanobis).  Note that this is defined in terms of an inverse covariance matrix.  In fact, you can use it to compute distances based on the $A$-norm where $A$ is any symmetric positive definite (SPD) matrix.\n",
    "\n",
    "\\begin{equation}\n",
    "d(x,y) = \\| x- y \\|_A = \\sqrt{(x - y)^T A (x - y)}\n",
    "\\end{equation}"
   ]
  },
  {
   "cell_type": "code",
   "execution_count": 17,
   "metadata": {},
   "outputs": [
    {
     "data": {
      "text/plain": [
       "2.666670669798328"
      ]
     },
     "execution_count": 17,
     "metadata": {},
     "output_type": "execute_result"
    }
   ],
   "source": [
    "A = np.random.randn(3,2)\n",
    "A = A.T @ A\n",
    "distance.mahalanobis(x, y, A)"
   ]
  },
  {
   "cell_type": "markdown",
   "metadata": {},
   "source": [
    "You can also weight many distances with a vector $w$.  The entry $w_i$ will weight the comparison between the $i$th entries of $x$ and $y$.  E.g. weighted euclidean distance\n",
    "\\begin{equation}\n",
    "d(x, y; w) = \\sqrt{\\sum_i w_i(x_i - y_i)^2}\n",
    "\\end{equation}"
   ]
  },
  {
   "cell_type": "code",
   "execution_count": 18,
   "metadata": {},
   "outputs": [
    {
     "name": "stdout",
     "output_type": "stream",
     "text": [
      "1.7320508075688774\n",
      "3.0\n",
      "1.4422495703074083\n"
     ]
    }
   ],
   "source": [
    "w = [1, 2]\n",
    "for d in (distance.euclidean, distance.cityblock, lambda x, y, w : distance.minkowski(x, y, 3, w)):\n",
    "    print(d(x, y, w))"
   ]
  },
  {
   "cell_type": "markdown",
   "metadata": {},
   "source": [
    "### Exercise\n",
    "\n",
    "Compute a weighted euclidean distance using the Mahalanobis distance."
   ]
  },
  {
   "cell_type": "code",
   "execution_count": null,
   "metadata": {},
   "outputs": [],
   "source": [
    "## Your code here\n"
   ]
  },
  {
   "cell_type": "markdown",
   "metadata": {},
   "source": [
    "## Pairwise Distances\n",
    "\n",
    "In general, we often want to compute distances between many points all at once. This typically boils down to computing a matrix $D$, where $D_{i,j} = d(x_i, x_j)$.  \n",
    "\n",
    "Here's a simple function that would do just that"
   ]
  },
  {
   "cell_type": "code",
   "execution_count": 20,
   "metadata": {},
   "outputs": [],
   "source": [
    "def pairwise(X, dist=distance.euclidean):\n",
    "    \"\"\"\n",
    "    compute pairwise distances in n x p numpy array X\n",
    "    \"\"\"\n",
    "    n, p = X.shape\n",
    "    D = np.empty((n,n), dtype=np.float64)\n",
    "    for i in range(n):\n",
    "        for j in range(n):\n",
    "            D[i,j] = dist(X[i], X[j])\n",
    "            \n",
    "    return D"
   ]
  },
  {
   "cell_type": "code",
   "execution_count": 21,
   "metadata": {},
   "outputs": [
    {
     "data": {
      "text/plain": [
       "array([[0.        , 1.94237948, 1.90940651, 1.69649549, 2.062052  ],\n",
       "       [1.94237948, 0.        , 0.07479893, 0.52887254, 0.74132462],\n",
       "       [1.90940651, 0.07479893, 0.        , 0.56782601, 0.67473708],\n",
       "       [1.69649549, 0.52887254, 0.56782601, 0.        , 1.20893148],\n",
       "       [2.062052  , 0.74132462, 0.67473708, 1.20893148, 0.        ]])"
      ]
     },
     "execution_count": 21,
     "metadata": {},
     "output_type": "execute_result"
    }
   ],
   "source": [
    "X = sample_circle(5)\n",
    "pairwise(X)"
   ]
  },
  {
   "cell_type": "code",
   "execution_count": 22,
   "metadata": {},
   "outputs": [
    {
     "data": {
      "text/plain": [
       "array([[0.        , 2.35348345, 2.33298607, 1.88832923, 2.59101514],\n",
       "       [2.35348345, 0.        , 0.07387947, 0.56261554, 0.72452761],\n",
       "       [2.33298607, 0.07387947, 0.        , 0.57903245, 0.65586844],\n",
       "       [1.88832923, 0.56261554, 0.57903245, 0.        , 1.16755777],\n",
       "       [2.59101514, 0.72452761, 0.65586844, 1.16755777, 0.        ]])"
      ]
     },
     "execution_count": 22,
     "metadata": {},
     "output_type": "execute_result"
    }
   ],
   "source": [
    "pairwise(X, dist=lambda x, y : distance.minkowski(x, y, 3, [1.0, 2.0]))"
   ]
  },
  {
   "cell_type": "markdown",
   "metadata": {},
   "source": [
    "There are a couple of inneficiencies above:\n",
    "1. D is symmetric (we do redundant computation)\n",
    "2. For some metrics, it can be more efficient to compute many distances at once\n",
    "\n",
    "As an example of point 2, pairwise euclidean distances are\n",
    "\\begin{equation}\n",
    "d(x_i, x_j) = \\sqrt{(x_i - x_j)^T (x_i -x_j)}\\\\\n",
    "= \\sqrt{x_i^T x_i - 2 x_i^T x_j + x_j^T x_j}\n",
    "\\end{equation}\n",
    "\n",
    "Let $x^2$ denote the vector of length $n$ where $x_i^2 = x_i^T x_i$, and let $1$ denote the vector of ones (of length $n$).  Then\n",
    "\\begin{equation}\n",
    "D = \\sqrt{1 x^{2T} + x^2 1^T - 2 X X^T}\n",
    "\\end{equation}\n",
    "\n",
    "Thus, we can take advantage of BLAS level 3 operations to compute the distance matrix"
   ]
  },
  {
   "cell_type": "code",
   "execution_count": 23,
   "metadata": {},
   "outputs": [
    {
     "data": {
      "text/plain": [
       "1.3184628807076516e-15"
      ]
     },
     "execution_count": 23,
     "metadata": {},
     "output_type": "execute_result"
    }
   ],
   "source": [
    "def pairwise_euclidean(X):\n",
    "    \"\"\"\n",
    "    Compute pairwise euclidean distances in X\n",
    "    \"\"\"\n",
    "    XXT = X @ X.T\n",
    "    x2 = np.diag(XXT)\n",
    "    one = np.ones(X.shape[0])\n",
    "    D = np.outer(x2, one) + np.outer(one, x2) - 2*XXT\n",
    "    return np.sqrt(D)\n",
    "\n",
    "la.norm(pairwise_euclidean(X) - pairwise(X))"
   ]
  },
  {
   "cell_type": "markdown",
   "metadata": {},
   "source": [
    "We can also use [BLAS syr2](http://www.netlib.org/lapack/explore-html/d7/d15/group__double__blas__level2_gae96880c53b8eaee70bbef273b905715f.html#gae96880c53b8eaee70bbef273b905715f) for the rank-2 update:"
   ]
  },
  {
   "cell_type": "code",
   "execution_count": 24,
   "metadata": {},
   "outputs": [
    {
     "name": "stdout",
     "output_type": "stream",
     "text": [
      "a = dsyr2(alpha,x,y,[lower,incx,offx,incy,offy,n,a,overwrite_a])\n",
      "\n",
      "Wrapper for ``dsyr2``.\n",
      "\n",
      "Parameters\n",
      "----------\n",
      "alpha : input float\n",
      "x : input rank-1 array('d') with bounds (*)\n",
      "y : input rank-1 array('d') with bounds (*)\n",
      "\n",
      "Other Parameters\n",
      "----------------\n",
      "lower : input int, optional\n",
      "    Default: 0\n",
      "incx : input int, optional\n",
      "    Default: 1\n",
      "offx : input int, optional\n",
      "    Default: 0\n",
      "incy : input int, optional\n",
      "    Default: 1\n",
      "offy : input int, optional\n",
      "    Default: 0\n",
      "n : input int, optional\n",
      "    Default: ((len(x)-1-offx)/abs(incx)+1 <=(len(y)-1-offy)/abs(incy)+1 ?(len(x)-1-offx)/abs(incx)+1 :(len(y)-1-offy)/abs(incy)+1)\n",
      "a : input rank-2 array('d') with bounds (n,n)\n",
      "overwrite_a : input int, optional\n",
      "    Default: 0\n",
      "\n",
      "Returns\n",
      "-------\n",
      "a : rank-2 array('d') with bounds (n,n)\n",
      "\n"
     ]
    }
   ],
   "source": [
    "print(la.blas.dsyr2.__doc__)"
   ]
  },
  {
   "cell_type": "code",
   "execution_count": 25,
   "metadata": {},
   "outputs": [
    {
     "data": {
      "text/plain": [
       "1.2414222253120274e-15"
      ]
     },
     "execution_count": 25,
     "metadata": {},
     "output_type": "execute_result"
    }
   ],
   "source": [
    "def pairwise_euclidean_blas(X):\n",
    "    \"\"\"\n",
    "    Compute pairwise euclidean distances in X \n",
    "    use syrk2 for rank-2 update\n",
    "    \"\"\"\n",
    "    XXT = X @ X.T\n",
    "    x2 = np.diag(XXT)\n",
    "    one = np.ones(X.shape[0])\n",
    "    D = la.blas.dsyr2(1.0, x2, one, a=-2*XXT) # this only updates upper triangular part\n",
    "    D = np.triu(D) # extract upper triangular part\n",
    "    return np.sqrt(D + D.T)\n",
    "\n",
    "la.norm(pairwise_euclidean_blas(X) - pairwise(X))"
   ]
  },
  {
   "cell_type": "code",
   "execution_count": 27,
   "metadata": {},
   "outputs": [
    {
     "name": "stdout",
     "output_type": "stream",
     "text": [
      "pairwise : 0.14259719848632812 sec.\n",
      "pairwise_euclidean : 0.0009162425994873047 sec.\n",
      "pairwise_euclidean_blas : 0.0005114078521728516 sec.\n"
     ]
    }
   ],
   "source": [
    "import time\n",
    "\n",
    "# generate data set\n",
    "n = 100\n",
    "d = 2\n",
    "\n",
    "X = np.random.randn(n, d)\n",
    "\n",
    "for d in (pairwise, pairwise_euclidean, pairwise_euclidean_blas):\n",
    "    t0 = time.time()\n",
    "    D = d(X)\n",
    "    t1 = time.time()\n",
    "    print(\"{} : {} sec.\".format(d.__name__, t1 - t0))"
   ]
  },
  {
   "cell_type": "markdown",
   "metadata": {},
   "source": [
    "### Exercise\n",
    "\n",
    "Write a version of `pairwise_euclidean` which uses Numba.  How does this compare to the BLAS implementation?"
   ]
  },
  {
   "cell_type": "code",
   "execution_count": null,
   "metadata": {},
   "outputs": [],
   "source": [
    "## Your code here\n"
   ]
  },
  {
   "cell_type": "markdown",
   "metadata": {},
   "source": [
    "### `pdist`\n",
    "\n",
    "You don't need to implement these faster methods yourself. [`scipy.spatial.distance.pdist`](https://docs.scipy.org/doc/scipy/reference/generated/scipy.spatial.distance.pdist.html#scipy.spatial.distance.pdist) has built-in optimizations for a variety of pairwise distance computations.  You can use [`scipy.spatial.distance.cdist`](https://docs.scipy.org/doc/scipy/reference/generated/scipy.spatial.distance.cdist.html#scipy.spatial.distance.cdist) if you are computing pairwise distances between two data sets $X, Y$."
   ]
  },
  {
   "cell_type": "code",
   "execution_count": 28,
   "metadata": {},
   "outputs": [],
   "source": [
    "from scipy.spatial.distance import pdist, cdist"
   ]
  },
  {
   "cell_type": "code",
   "execution_count": 29,
   "metadata": {},
   "outputs": [],
   "source": [
    "D = pdist(X)"
   ]
  },
  {
   "cell_type": "markdown",
   "metadata": {},
   "source": [
    "The output of `pdist` is not a matrix, but a condensed form which stores the lower-triangular entries in a vector."
   ]
  },
  {
   "cell_type": "code",
   "execution_count": 30,
   "metadata": {},
   "outputs": [
    {
     "data": {
      "text/plain": [
       "(4950,)"
      ]
     },
     "execution_count": 30,
     "metadata": {},
     "output_type": "execute_result"
    }
   ],
   "source": [
    "D.shape"
   ]
  },
  {
   "cell_type": "markdown",
   "metadata": {},
   "source": [
    "to get a square matrix, you can use [`squareform`](https://docs.scipy.org/doc/scipy/reference/generated/scipy.spatial.distance.squareform.html#scipy.spatial.distance.squareform).  You can also use `squareform` to go back to the condensed form."
   ]
  },
  {
   "cell_type": "code",
   "execution_count": 31,
   "metadata": {},
   "outputs": [
    {
     "data": {
      "text/plain": [
       "(100, 100)"
      ]
     },
     "execution_count": 31,
     "metadata": {},
     "output_type": "execute_result"
    }
   ],
   "source": [
    "from scipy.spatial.distance import squareform\n",
    "\n",
    "D = squareform(D)\n",
    "D.shape"
   ]
  },
  {
   "cell_type": "code",
   "execution_count": 32,
   "metadata": {},
   "outputs": [
    {
     "data": {
      "text/plain": [
       "(4950,)"
      ]
     },
     "execution_count": 32,
     "metadata": {},
     "output_type": "execute_result"
    }
   ],
   "source": [
    "squareform(D).shape"
   ]
  },
  {
   "cell_type": "markdown",
   "metadata": {},
   "source": [
    "`pdist` takes in a keyword argument `metric`, which determines the distance computed"
   ]
  },
  {
   "cell_type": "code",
   "execution_count": 33,
   "metadata": {},
   "outputs": [
    {
     "data": {
      "text/plain": [
       "array([2.08938154, 3.11065611, 0.93840319, ..., 2.2620697 , 1.07479868,\n",
       "       1.64700974])"
      ]
     },
     "execution_count": 33,
     "metadata": {},
     "output_type": "execute_result"
    }
   ],
   "source": [
    "pdist(X, metric='cityblock')"
   ]
  },
  {
   "cell_type": "markdown",
   "metadata": {},
   "source": [
    "Let's compare to our implementations"
   ]
  },
  {
   "cell_type": "code",
   "execution_count": 35,
   "metadata": {},
   "outputs": [
    {
     "name": "stdout",
     "output_type": "stream",
     "text": [
      "pairwise : 0.22939705848693848 sec.\n",
      "pairwise_euclidean : 0.0007569789886474609 sec.\n",
      "pairwise_euclidean_blas : 0.00044345855712890625 sec.\n",
      "pdist : 0.00022459030151367188 sec.\n"
     ]
    }
   ],
   "source": [
    "import time\n",
    "\n",
    "# generate data set\n",
    "n = 100\n",
    "d = 2\n",
    "\n",
    "X = np.random.randn(n, d)\n",
    "\n",
    "for d in (pairwise, pairwise_euclidean, pairwise_euclidean_blas, pdist):\n",
    "    t0 = time.time()\n",
    "    D = d(X)\n",
    "    t1 = time.time()\n",
    "    print(\"{} : {} sec.\".format(d.__name__, t1 - t0))"
   ]
  },
  {
   "cell_type": "markdown",
   "metadata": {},
   "source": [
    "If we form the squareform:"
   ]
  },
  {
   "cell_type": "code",
   "execution_count": 36,
   "metadata": {},
   "outputs": [
    {
     "name": "stdout",
     "output_type": "stream",
     "text": [
      "pairwise : 0.1943039894104004 sec.\n",
      "pairwise_euclidean : 0.0005679130554199219 sec.\n",
      "pairwise_euclidean_blas : 0.0003407001495361328 sec.\n",
      "sq_pdist : 0.00029754638671875 sec.\n"
     ]
    }
   ],
   "source": [
    "import time\n",
    "\n",
    "# generate data set\n",
    "n = 100\n",
    "d = 2\n",
    "\n",
    "X = np.random.randn(n, d)\n",
    "\n",
    "def sq_pdist(X, **kwargs):\n",
    "    return squareform(pdist(X, **kwargs))\n",
    "\n",
    "for d in (pairwise, pairwise_euclidean, pairwise_euclidean_blas, sq_pdist):\n",
    "    t0 = time.time()\n",
    "    D = d(X)\n",
    "    t1 = time.time()\n",
    "    print(\"{} : {} sec.\".format(d.__name__, t1 - t0))"
   ]
  },
  {
   "cell_type": "code",
   "execution_count": 44,
   "metadata": {},
   "outputs": [
    {
     "data": {
      "text/plain": [
       "(30, 70)"
      ]
     },
     "execution_count": 44,
     "metadata": {},
     "output_type": "execute_result"
    }
   ],
   "source": [
    "D = cdist(X[:30],X[30:])\n",
    "D.shape"
   ]
  },
  {
   "cell_type": "markdown",
   "metadata": {},
   "source": [
    "### Exercise\n",
    "\n",
    "Use `pdist` to compute ’braycurtis’, ‘canberra’, ‘chebyshev’, ‘cityblock’, ‘correlation’, ‘cosine’, and ‘euclidean’, distances on a random `X`.  Are there noticeable differences in the time it takes to compute each distance?"
   ]
  },
  {
   "cell_type": "code",
   "execution_count": 12,
   "metadata": {},
   "outputs": [
    {
     "name": "stdout",
     "output_type": "stream",
     "text": [
      "205 µs ± 11.6 µs per loop (mean ± std. dev. of 7 runs, 1,000 loops each)\n"
     ]
    }
   ],
   "source": [
    "## Your code here\n",
    "\n",
    "X = np.random.randn(100,50)\n",
    "%timeit D = distance.pdist(X, 'braycurtis')"
   ]
  },
  {
   "cell_type": "code",
   "execution_count": 19,
   "metadata": {},
   "outputs": [
    {
     "name": "stdout",
     "output_type": "stream",
     "text": [
      "272 µs ± 11.9 µs per loop (mean ± std. dev. of 7 runs, 1,000 loops each)\n"
     ]
    }
   ],
   "source": [
    "%timeit D = distance.pdist(X, 'canberra')"
   ]
  },
  {
   "cell_type": "code",
   "execution_count": 14,
   "metadata": {},
   "outputs": [
    {
     "name": "stdout",
     "output_type": "stream",
     "text": [
      "129 µs ± 7.54 µs per loop (mean ± std. dev. of 7 runs, 10,000 loops each)\n"
     ]
    }
   ],
   "source": [
    "%timeit D = distance.pdist(X, 'chebyshev')"
   ]
  },
  {
   "cell_type": "code",
   "execution_count": 15,
   "metadata": {},
   "outputs": [
    {
     "name": "stdout",
     "output_type": "stream",
     "text": [
      "154 µs ± 3.83 µs per loop (mean ± std. dev. of 7 runs, 10,000 loops each)\n"
     ]
    }
   ],
   "source": [
    "%timeit D = distance.pdist(X, 'cityblock')"
   ]
  },
  {
   "cell_type": "code",
   "execution_count": 20,
   "metadata": {},
   "outputs": [
    {
     "name": "stdout",
     "output_type": "stream",
     "text": [
      "237 µs ± 15.4 µs per loop (mean ± std. dev. of 7 runs, 1,000 loops each)\n"
     ]
    }
   ],
   "source": [
    "%timeit D = distance.pdist(X, 'correlation')"
   ]
  },
  {
   "cell_type": "code",
   "execution_count": 17,
   "metadata": {},
   "outputs": [
    {
     "name": "stdout",
     "output_type": "stream",
     "text": [
      "227 µs ± 14.5 µs per loop (mean ± std. dev. of 7 runs, 1,000 loops each)\n"
     ]
    }
   ],
   "source": [
    "%timeit D = distance.pdist(X, 'cosine')"
   ]
  },
  {
   "cell_type": "code",
   "execution_count": 18,
   "metadata": {},
   "outputs": [
    {
     "name": "stdout",
     "output_type": "stream",
     "text": [
      "116 µs ± 11.7 µs per loop (mean ± std. dev. of 7 runs, 10,000 loops each)\n"
     ]
    }
   ],
   "source": [
    "%timeit D = distance.pdist(X, 'euclidean')"
   ]
  },
  {
   "cell_type": "markdown",
   "metadata": {},
   "source": [
    "Quick observation: \n",
    "\n",
    "After running pdist on a random 100 * 50 matrix for all the different metrics, it seems that `euclidean`, `cityblock`, \n",
    "and `chebyshev` took shorter time to compute. The metric `canberra` took the longest time. "
   ]
  },
  {
   "cell_type": "code",
   "execution_count": null,
   "metadata": {},
   "outputs": [],
   "source": []
  }
 ],
 "metadata": {
  "kernelspec": {
   "display_name": "Python 3 (ipykernel)",
   "language": "python",
   "name": "python3"
  },
  "language_info": {
   "codemirror_mode": {
    "name": "ipython",
    "version": 3
   },
   "file_extension": ".py",
   "mimetype": "text/x-python",
   "name": "python",
   "nbconvert_exporter": "python",
   "pygments_lexer": "ipython3",
   "version": "3.10.1"
  }
 },
 "nbformat": 4,
 "nbformat_minor": 4
}
